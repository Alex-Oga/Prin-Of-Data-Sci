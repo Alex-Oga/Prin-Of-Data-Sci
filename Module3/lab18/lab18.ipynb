{
 "cells": [
  {
   "cell_type": "markdown",
   "metadata": {
    "nbgrader": {
     "grade": false,
     "grade_id": "intro",
     "locked": true,
     "schema_version": 2,
     "solution": false
    }
   },
   "source": [
    "# Lab 18: Clustering\n",
    "\n",
    "In this lab you will explore K-Means, Agglomerative Clustering, and (optionally) Spectral Clustering. "
   ]
  },
  {
   "cell_type": "code",
   "execution_count": 1,
   "metadata": {
    "nbgrader": {
     "grade": false,
     "grade_id": "imports",
     "locked": true,
     "schema_version": 2,
     "solution": false
    }
   },
   "outputs": [
    {
     "name": "stdout",
     "output_type": "stream",
     "text": [
      "Note: you may need to restart the kernel to use updated packages.\n"
     ]
    }
   ],
   "source": [
    "import numpy as np \n",
    "import pandas as pd # don't you know Pandas?\n",
    "import matplotlib.pyplot as plt # plots\n",
    "import seaborn as sns # pretty plots\n",
    "from sklearn import cluster\n",
    "\n",
    "# more readable exceptions\n",
    "%pip install --quiet iwut\n",
    "%load_ext iwut\n",
    "%wut on"
   ]
  },
  {
   "cell_type": "markdown",
   "metadata": {},
   "source": [
    "\n",
    "In the first part of this lab, we work with three different toy datasets, all with different clustering characteristics. In the second part, we explore a real-world dataset from the World Bank.\n",
    "\n",
    "<br/><br/><br/>\n",
    "\n",
    "## Toy Data 1: Balanced Clusters\n",
    "\n",
    "Let us begin with a toy dataset with three groups that are completely separated with the variables given. There are the same number of points per group and the same variance within each group."
   ]
  },
  {
   "cell_type": "code",
   "execution_count": 2,
   "metadata": {},
   "outputs": [
    {
     "data": {
      "image/png": "[encoded data removed]",
      "text/plain": [
       "<Figure size 432x288 with 1 Axes>"
      ]
     },
     "metadata": {
      "needs_background": "light"
     },
     "output_type": "display_data"
    }
   ],
   "source": [
    "# just run this cell\n",
    "np.random.seed(1337)\n",
    "\n",
    "c1 = np.random.normal(size = (25, 2))\n",
    "c2 = np.array([2, 8]) + np.random.normal(size = (25, 2))\n",
    "c3 = np.array([8, 4]) + np.random.normal(size = (25, 2))\n",
    "\n",
    "x1 = np.vstack((c1, c2, c3))\n",
    "\n",
    "sns.scatterplot(x = x1[:, 0], y = x1[:, 1]);"
   ]
  },
  {
   "cell_type": "markdown",
   "metadata": {},
   "source": [
    "Below, we create a `cluster.KMeans` object ([documentation](https://scikit-learn.org/stable/modules/generated/sklearn.cluster.KMeans.html)) which implements the K-Means algorithm."
   ]
  },
  {
   "cell_type": "code",
   "execution_count": 3,
   "metadata": {
    "scrolled": true
   },
   "outputs": [
    {
     "data": {
      "image/png": "[encoded data removed]",
      "text/plain": [
       "<Figure size 432x288 with 1 Axes>"
      ]
     },
     "metadata": {
      "needs_background": "light"
     },
     "output_type": "display_data"
    }
   ],
   "source": [
    "# just run this cell\n",
    "kmeans = cluster.KMeans(n_clusters = 3, random_state = 42).fit(x1)\n",
    "sns.scatterplot(x = x1[:, 0], y = x1[:, 1], hue = kmeans.labels_)\n",
    "sns.scatterplot(x = kmeans.cluster_centers_[:, 0], y = kmeans.cluster_centers_[:, 1], color = 'blue', marker = 'x', s = 300, linewidth = 5);"
   ]
  },
  {
   "cell_type": "markdown",
   "metadata": {},
   "source": [
    "We observe that K-Means is able to accurately pick out the three initial clusters. "
   ]
  },
  {
   "cell_type": "markdown",
   "metadata": {
    "deletable": false,
    "editable": false
   },
   "source": [
    "<br/><br/>\n",
    "\n",
    "<hr style=\"border: 1px solid #fdb515;\" />\n",
    "\n",
    "## Question 1: Initial Centers\n",
    "\n",
    "In the previous example, the K-Means algorithm was able to accurately find the three initial clusters. However, changing the starting centers for K-Means can change the final clusters that K-Means gives us. Change the initial centers to the points `[0, 1]`, `[1, 1]`, and `[2, 2]`; and fit a `cluster.KMeans` object ([documentation](https://scikit-learn.org/stable/modules/generated/sklearn.cluster.KMeans.html)) called `kmeans_q1` on the toy dataset from the previous example. Keep the `random_state` parameter as 42 and the `n_clusters` parameter as 3.\n",
    "\n",
    "**Hint:** You will need to change the `init` and `n_init` parameters in `cluster.KMeans`.\n",
    "\n",
    "<!--\n",
    "BEGIN QUESTION\n",
    "name: q1\n",
    "-->"
   ]
  },
  {
   "cell_type": "code",
   "execution_count": null,
   "metadata": {},
   "outputs": [],
   "source": [
    "kmeans_q1 = ..."
   ]
  },
  {
   "cell_type": "code",
   "execution_count": null,
   "metadata": {
    "deletable": false,
    "editable": false
   },
   "outputs": [],
   "source": [
    "# Test for q1 - should say True\n",
    "sorted(np.unique(kmeans_q1.labels_, return_counts = True)[1]) == [12, 13, 50]"
   ]
  },
  {
   "cell_type": "markdown",
   "metadata": {},
   "source": [
    "Running the K-Means algorithm with these centers gives us a different result from before, and this particular run of K-Means was unable to accurately find the three initial clusters."
   ]
  },
  {
   "cell_type": "code",
   "execution_count": null,
   "metadata": {
    "scrolled": true
   },
   "outputs": [],
   "source": [
    "sns.scatterplot(x = x1[:, 0], y = x1[:, 1], hue = kmeans_q1.labels_)\n",
    "sns.scatterplot(x = kmeans_q1.cluster_centers_[:, 0], y = kmeans_q1.cluster_centers_[:, 1], color = 'blue', marker = 'x', s = 300, linewidth = 5);"
   ]
  },
  {
   "cell_type": "markdown",
   "metadata": {},
   "source": [
    "<br/><br/><br/>\n",
    "\n",
    "<hr style=\"border: 5px solid #311432;\" />\n",
    "<hr style=\"border: 1px solid #fdb515;\" />\n",
    "\n",
    "## Toy Data 2: Clusters of Different Sizes\n",
    "\n",
    "Sometimes, K-Means will have a difficult time finding the \"correct\" clusters even with ideal starting centers. For example, consider the data below."
   ]
  },
  {
   "cell_type": "code",
   "execution_count": null,
   "metadata": {},
   "outputs": [],
   "source": [
    "# just run this cell\n",
    "np.random.seed(1337)\n",
    "\n",
    "c1 = 0.5 * np.random.normal(size = (25, 2))\n",
    "c2 = np.array([10, 10]) + 3 * np.random.normal(size = (475, 2))\n",
    "\n",
    "x2 = np.vstack((c1, c2))\n",
    "\n",
    "sns.scatterplot(x = x2[:, 0], y = x2[:, 1]);"
   ]
  },
  {
   "cell_type": "markdown",
   "metadata": {},
   "source": [
    "There are two groups of different sizes in two different senses: **variability** (i.e., spread) and **number of datapoints**. The smaller group has both smaller variability and has fewer datapoints, and the larger of the two groups is more diffuse and populated."
   ]
  },
  {
   "cell_type": "markdown",
   "metadata": {
    "deletable": false,
    "editable": false
   },
   "source": [
    "<br/><br/>\n",
    "\n",
    "<hr style=\"border: 1px solid #fdb515;\" />\n",
    "\n",
    "## Question 2\n",
    "\n",
    "### Question 2a: K-Means\n",
    "\n",
    "Fit a `cluster.KMeans` object ([documentation](https://scikit-learn.org/stable/modules/generated/sklearn.cluster.KMeans.html)) called `kmeans_q2a` on the dataset above with two clusters and a `random_state` parameter of 42.\n",
    "\n",
    "<!--\n",
    "BEGIN QUESTION\n",
    "name: q2a\n",
    "-->"
   ]
  },
  {
   "cell_type": "code",
   "execution_count": null,
   "metadata": {},
   "outputs": [],
   "source": [
    "kmeans_q2a = cluster.KMeans(n_clusters = 2, random_state = 42).fit(x2)"
   ]
  },
  {
   "cell_type": "code",
   "execution_count": null,
   "metadata": {
    "deletable": false,
    "editable": false
   },
   "outputs": [],
   "source": [
    "# Test for Q2a\n",
    "sorted(np.unique(kmeans_q2a.labels_, return_counts = True)[1]) == [45, 455]"
   ]
  },
  {
   "cell_type": "markdown",
   "metadata": {},
   "source": [
    "<br/>\n",
    "\n",
    "(For notational simplicity we will call the initial cluster on the bottom left $A$ and the initial cluster on the top right $B$. We will call the bottom left cluster found by K-Means as cluster $a$ and the top right cluster found by K-Means as cluster $b$.) \n",
    "\n",
    "As seen below, K-Means is unable to find the two intial clusters because cluster $A$ includes points from cluster $B$. Recall that K-Means attempts to minimize inertia, so it makes sense that points in the bottom left of cluster $B$ would prefer to be in cluster $A$ rather than cluster $B$. If these points were in cluster $B$ instead, then the resulting cluster assignments would have a larger distortion."
   ]
  },
  {
   "cell_type": "code",
   "execution_count": null,
   "metadata": {},
   "outputs": [],
   "source": [
    "# just run this cell\n",
    "sns.scatterplot(x = x2[:, 0], y = x2[:, 1], hue = kmeans_q2a.labels_)\n",
    "sns.scatterplot(x = kmeans_q2a.cluster_centers_[:, 0], y = kmeans_q2a.cluster_centers_[:, 1], color = 'red', marker = 'x', s = 300, linewidth = 5);"
   ]
  },
  {
   "cell_type": "markdown",
   "metadata": {},
   "source": [
    "<br/>\n",
    "\n",
    "---\n",
    "\n",
    "### Agglomerative Clustering: The Linkage Criterion\n",
    "\n",
    "It turns out agglomerative clustering works better for this task, as long as we choose the right definition of distance between two clusters. Recall that agglomerative clustering starts with every data point in its own cluster and iteratively joins the two closest clusters until there are $k$ clusters remaining. However, the \"distance\" between two clusters is ambiguous. \n",
    "\n",
    "In lecture, we used the maximum distance between a point in the first cluster and a point in the second as this notion of distance, but there are other ways to define the distance between two clusters. \n",
    "\n",
    "Our choice of definition for the distance is sometimes called the \"linkage criterion.\" We will discuss three linkage criteria, each of which is a different definition of \"distance\" between two clusters:\n",
    "\n",
    "- **Complete linkage** considers the distance between two clusters as the **maximum** distance between a point in the first cluster and a point in the second.\n",
    "- **Single linkage** considers the distance between two clusters as the **minimum** distance between a point in the first cluster and a point in the second.\n",
    "- **Average linkage** considers the distance between two clusters as the **average** distance between a point in the first cluster and a point in the second.\n",
    "\n",
    "Below, we fit a `cluster.AgglomerativeClustering` object ([documentation](https://scikit-learn.org/stable/modules/generated/sklearn.cluster.AgglomerativeClustering.html)) called `agg_complete` on the dataset above with two clusters, using the **complete linkage criterion**."
   ]
  },
  {
   "cell_type": "code",
   "execution_count": null,
   "metadata": {},
   "outputs": [],
   "source": [
    "# just run this cell\n",
    "agg_complete = cluster.AgglomerativeClustering(n_clusters = 2, linkage = 'complete').fit(x2)"
   ]
  },
  {
   "cell_type": "markdown",
   "metadata": {},
   "source": [
    "Below we visualize the results:"
   ]
  },
  {
   "cell_type": "code",
   "execution_count": null,
   "metadata": {},
   "outputs": [],
   "source": [
    "# just run this cell\n",
    "sns.scatterplot(x = x2[:, 0], y = x2[:, 1], hue = agg_complete.labels_);"
   ]
  },
  {
   "cell_type": "markdown",
   "metadata": {},
   "source": [
    "It looks like complete linkage agglomerative clustering has the same issue as K-Means! The bottom left cluster found by complete linkage agglomerative clustering includes points from the top right cluster. However, we can remedy this by picking a different linkage criterion."
   ]
  },
  {
   "cell_type": "markdown",
   "metadata": {
    "deletable": false,
    "editable": false
   },
   "source": [
    "<br/>\n",
    "\n",
    "---\n",
    "\n",
    "### Question 2b: Agglomerative Clustering\n",
    "\n",
    "Now, use the **single linkage criterion** to fit a `cluster.AgglomerativeClustering` object called `agg_single` on the dataset above with two clusters.\n",
    "\n",
    "<!--\n",
    "BEGIN QUESTION\n",
    "name: q2b\n",
    "-->"
   ]
  },
  {
   "cell_type": "code",
   "execution_count": null,
   "metadata": {},
   "outputs": [],
   "source": [
    "agg_single = ..."
   ]
  },
  {
   "cell_type": "code",
   "execution_count": null,
   "metadata": {
    "deletable": false,
    "editable": false
   },
   "outputs": [],
   "source": [
    "# Test for Q2b - should return True\n",
    "sorted(np.unique(agg_single.labels_, return_counts = True)[1]) == [25, 475]"
   ]
  },
  {
   "cell_type": "markdown",
   "metadata": {},
   "source": [
    "Finally, we see that single linkage agglomerative clustering is able to find the two initial clusters."
   ]
  },
  {
   "cell_type": "code",
   "execution_count": null,
   "metadata": {},
   "outputs": [],
   "source": [
    "sns.scatterplot(x = x2[:, 0], y = x2[:, 1], hue = agg_single.labels_);"
   ]
  },
  {
   "cell_type": "markdown",
   "metadata": {},
   "source": [
    "You might be curious why single linkage \"works\" while complete linkage does not in this scenario; we will leave this as an exercise for students who are interested."
   ]
  },
  {
   "cell_type": "markdown",
   "metadata": {},
   "source": [
    "<br/><br/><br/>\n",
    "\n",
    "<hr style=\"border: 1px solid #fdb515;\" />\n",
    "\n",
    "## Toy Data 3: Oddly Shaped Clusters\n",
    "\n",
    "Another example when k-means fails is when the clusters have odd shapes. For example, look at the following dataset."
   ]
  },
  {
   "cell_type": "code",
   "execution_count": null,
   "metadata": {},
   "outputs": [],
   "source": [
    "np.random.seed(100)\n",
    "\n",
    "data = np.random.normal(0, 7, size = (1000, 2))\n",
    "lengths = np.linalg.norm(data, axis = 1, ord = 2)\n",
    "x3 = data[(lengths < 2) | ((lengths > 5) & (lengths < 7)) | ((lengths > 11) & (lengths < 15))]\n",
    "\n",
    "sns.scatterplot(x = x3[:, 0], y = x3[:, 1]);"
   ]
  },
  {
   "cell_type": "markdown",
   "metadata": {},
   "source": [
    "Looking at this data, we might say there are 3 clusters, corresponding to each of the 3 concentric circles, with the same center. However, k-means will fail."
   ]
  },
  {
   "cell_type": "code",
   "execution_count": null,
   "metadata": {},
   "outputs": [],
   "source": [
    "kmeans_q3 = cluster.KMeans(n_clusters = 3, random_state = 42).fit(x3)\n",
    "sns.scatterplot(x = x3[:, 0], y = x3[:, 1], hue = kmeans_q3.labels_)\n",
    "sns.scatterplot(x = kmeans_q3.cluster_centers_[:, 0], y = kmeans_q3.cluster_centers_[:, 1], color = 'red', marker = 'x', s = 300, linewidth = 5);"
   ]
  },
  {
   "cell_type": "markdown",
   "metadata": {
    "deletable": false
   },
   "source": [
    "<br/><br/>\n",
    "\n",
    "<hr style=\"border: 1px solid #fdb515;\" />\n",
    "\n",
    "## (Optional) Question 3: Spectral Clustering\n",
    "\n",
    "Let's try spectral clustering instead. \n",
    "\n",
    "In the cell below, create and fit a `cluster.SpectralClustering` object ([documentation](https://scikit-learn.org/stable/modules/generated/sklearn.cluster.SpectralClustering.html)), and assign it to `spectral`. Use 3 clusters, and make sure you set `affinity` to `\"nearest_neighbors\"` and a `random_state` of 10.\n",
    "\n",
    "**Note:** Ignore any warnings about the graph not being fully connected."
   ]
  },
  {
   "cell_type": "code",
   "execution_count": null,
   "metadata": {},
   "outputs": [],
   "source": [
    "spectral = ..."
   ]
  },
  {
   "cell_type": "code",
   "execution_count": null,
   "metadata": {
    "deletable": false
   },
   "outputs": [],
   "source": [
    "# Test for Q3 - should return True\n",
    "sorted(np.unique(spectral.labels_, return_counts = True)[1]) == [42, 170, 174]"
   ]
  },
  {
   "cell_type": "markdown",
   "metadata": {},
   "source": [
    "Below, we see that spectral clustering is able to find the three rings, when k-means does not."
   ]
  },
  {
   "cell_type": "code",
   "execution_count": null,
   "metadata": {},
   "outputs": [],
   "source": [
    "sns.scatterplot(x = x3[:, 0], y = x3[:, 1], hue = spectral.labels_);"
   ]
  },
  {
   "cell_type": "markdown",
   "metadata": {},
   "source": [
    "<br/><br/><br/>\n",
    "\n",
    "<hr style=\"border: 5px solid #003262;\" />\n",
    "<hr style=\"border: 1px solid #fdb515;\" />\n",
    "\n",
    "## The World Bank Dataset\n",
    "\n",
    "In the previous three questions, we looked at clustering on two dimensional datasets. However, we can easily use clustering on data which have more than two dimensions. For this, let us turn to a World Bank dataset, containing various features for the world's countries.\n",
    "\n",
    "This data comes from https://databank.worldbank.org/source/world-development-indicators#.\n"
   ]
  },
  {
   "cell_type": "code",
   "execution_count": 25,
   "metadata": {},
   "outputs": [
    {
     "data": {
      "text/html": [
       "<div>\n",
       "<style scoped>\n",
       "    .dataframe tbody tr th:only-of-type {\n",
       "        vertical-align: middle;\n",
       "    }\n",
       "\n",
       "    .dataframe tbody tr th {\n",
       "        vertical-align: top;\n",
       "    }\n",
       "\n",
       "    .dataframe thead th {\n",
       "        text-align: right;\n",
       "    }\n",
       "</style>\n",
       "<table border=\"1\" class=\"dataframe\">\n",
       "  <thead>\n",
       "    <tr style=\"text-align: right;\">\n",
       "      <th></th>\n",
       "      <th>Age dependency ratio (% of working-age population)</th>\n",
       "      <th>Age dependency ratio, old (% of working-age population)</th>\n",
       "      <th>Age dependency ratio, young (% of working-age population)</th>\n",
       "      <th>Bird species, threatened</th>\n",
       "      <th>Business extent of disclosure index (0=less disclosure to 10=more disclosure)</th>\n",
       "      <th>Contributing family workers, female (% of female employment) (modeled ILO estimate)</th>\n",
       "      <th>Contributing family workers, male (% of male employment) (modeled ILO estimate)</th>\n",
       "      <th>Contributing family workers, total (% of total employment) (modeled ILO estimate)</th>\n",
       "      <th>Cost of business start-up procedures (% of GNI per capita)</th>\n",
       "      <th>Cost of business start-up procedures, female (% of GNI per capita)</th>\n",
       "      <th>...</th>\n",
       "      <th>Unemployment, youth total (% of total labor force ages 15-24) (modeled ILO estimate)</th>\n",
       "      <th>Urban population</th>\n",
       "      <th>Urban population (% of total population)</th>\n",
       "      <th>Urban population growth (annual %)</th>\n",
       "      <th>Vulnerable employment, female (% of female employment) (modeled ILO estimate)</th>\n",
       "      <th>Vulnerable employment, male (% of male employment) (modeled ILO estimate)</th>\n",
       "      <th>Vulnerable employment, total (% of total employment) (modeled ILO estimate)</th>\n",
       "      <th>Wage and salaried workers, female (% of female employment) (modeled ILO estimate)</th>\n",
       "      <th>Wage and salaried workers, male (% of male employment) (modeled ILO estimate)</th>\n",
       "      <th>Wage and salaried workers, total (% of total employment) (modeled ILO estimate)</th>\n",
       "    </tr>\n",
       "    <tr>\n",
       "      <th>country</th>\n",
       "      <th></th>\n",
       "      <th></th>\n",
       "      <th></th>\n",
       "      <th></th>\n",
       "      <th></th>\n",
       "      <th></th>\n",
       "      <th></th>\n",
       "      <th></th>\n",
       "      <th></th>\n",
       "      <th></th>\n",
       "      <th></th>\n",
       "      <th></th>\n",
       "      <th></th>\n",
       "      <th></th>\n",
       "      <th></th>\n",
       "      <th></th>\n",
       "      <th></th>\n",
       "      <th></th>\n",
       "      <th></th>\n",
       "      <th></th>\n",
       "      <th></th>\n",
       "    </tr>\n",
       "  </thead>\n",
       "  <tbody>\n",
       "    <tr>\n",
       "      <th>Algeria</th>\n",
       "      <td>57.508032</td>\n",
       "      <td>10.021442</td>\n",
       "      <td>47.486590</td>\n",
       "      <td>15.0</td>\n",
       "      <td>4.0</td>\n",
       "      <td>2.720000</td>\n",
       "      <td>1.836</td>\n",
       "      <td>1.978000</td>\n",
       "      <td>0.0</td>\n",
       "      <td>11.8</td>\n",
       "      <td>...</td>\n",
       "      <td>29.952999</td>\n",
       "      <td>30670086.0</td>\n",
       "      <td>72.629</td>\n",
       "      <td>2.804996</td>\n",
       "      <td>24.337001</td>\n",
       "      <td>27.227001</td>\n",
       "      <td>26.762000</td>\n",
       "      <td>73.734001</td>\n",
       "      <td>68.160004</td>\n",
       "      <td>69.056000</td>\n",
       "    </tr>\n",
       "    <tr>\n",
       "      <th>Afghanistan</th>\n",
       "      <td>84.077656</td>\n",
       "      <td>4.758273</td>\n",
       "      <td>79.319383</td>\n",
       "      <td>16.0</td>\n",
       "      <td>8.0</td>\n",
       "      <td>71.780998</td>\n",
       "      <td>9.606</td>\n",
       "      <td>31.577999</td>\n",
       "      <td>0.0</td>\n",
       "      <td>6.4</td>\n",
       "      <td>...</td>\n",
       "      <td>2.639000</td>\n",
       "      <td>9477100.0</td>\n",
       "      <td>25.495</td>\n",
       "      <td>3.350383</td>\n",
       "      <td>95.573997</td>\n",
       "      <td>85.993001</td>\n",
       "      <td>89.378998</td>\n",
       "      <td>4.282000</td>\n",
       "      <td>13.292000</td>\n",
       "      <td>10.108000</td>\n",
       "    </tr>\n",
       "    <tr>\n",
       "      <th>Albania</th>\n",
       "      <td>45.810037</td>\n",
       "      <td>20.041214</td>\n",
       "      <td>25.768823</td>\n",
       "      <td>8.0</td>\n",
       "      <td>9.0</td>\n",
       "      <td>37.987000</td>\n",
       "      <td>20.795</td>\n",
       "      <td>28.076000</td>\n",
       "      <td>0.0</td>\n",
       "      <td>11.3</td>\n",
       "      <td>...</td>\n",
       "      <td>30.979000</td>\n",
       "      <td>1728969.0</td>\n",
       "      <td>60.319</td>\n",
       "      <td>1.317162</td>\n",
       "      <td>54.663000</td>\n",
       "      <td>54.994001</td>\n",
       "      <td>54.854000</td>\n",
       "      <td>44.320999</td>\n",
       "      <td>41.542999</td>\n",
       "      <td>42.720001</td>\n",
       "    </tr>\n",
       "    <tr>\n",
       "      <th>American Samoa</th>\n",
       "      <td>NaN</td>\n",
       "      <td>NaN</td>\n",
       "      <td>NaN</td>\n",
       "      <td>8.0</td>\n",
       "      <td>NaN</td>\n",
       "      <td>NaN</td>\n",
       "      <td>NaN</td>\n",
       "      <td>NaN</td>\n",
       "      <td>NaN</td>\n",
       "      <td>NaN</td>\n",
       "      <td>...</td>\n",
       "      <td>NaN</td>\n",
       "      <td>48339.0</td>\n",
       "      <td>87.153</td>\n",
       "      <td>-0.299516</td>\n",
       "      <td>NaN</td>\n",
       "      <td>NaN</td>\n",
       "      <td>NaN</td>\n",
       "      <td>NaN</td>\n",
       "      <td>NaN</td>\n",
       "      <td>NaN</td>\n",
       "    </tr>\n",
       "    <tr>\n",
       "      <th>Andorra</th>\n",
       "      <td>NaN</td>\n",
       "      <td>NaN</td>\n",
       "      <td>NaN</td>\n",
       "      <td>3.0</td>\n",
       "      <td>NaN</td>\n",
       "      <td>NaN</td>\n",
       "      <td>NaN</td>\n",
       "      <td>NaN</td>\n",
       "      <td>NaN</td>\n",
       "      <td>NaN</td>\n",
       "      <td>...</td>\n",
       "      <td>NaN</td>\n",
       "      <td>67813.0</td>\n",
       "      <td>88.062</td>\n",
       "      <td>-0.092859</td>\n",
       "      <td>NaN</td>\n",
       "      <td>NaN</td>\n",
       "      <td>NaN</td>\n",
       "      <td>NaN</td>\n",
       "      <td>NaN</td>\n",
       "      <td>NaN</td>\n",
       "    </tr>\n",
       "  </tbody>\n",
       "</table>\n",
       "<p>5 rows × 209 columns</p>\n",
       "</div>"
      ],
      "text/plain": [
       "                Age dependency ratio (% of working-age population)  \\\n",
       "country                                                              \n",
       "Algeria                                                 57.508032    \n",
       "Afghanistan                                             84.077656    \n",
       "Albania                                                 45.810037    \n",
       "American Samoa                                                NaN    \n",
       "Andorra                                                       NaN    \n",
       "\n",
       "                Age dependency ratio, old (% of working-age population)  \\\n",
       "country                                                                   \n",
       "Algeria                                                 10.021442         \n",
       "Afghanistan                                              4.758273         \n",
       "Albania                                                 20.041214         \n",
       "American Samoa                                                NaN         \n",
       "Andorra                                                       NaN         \n",
       "\n",
       "                Age dependency ratio, young (% of working-age population)  \\\n",
       "country                                                                     \n",
       "Algeria                                                 47.486590           \n",
       "Afghanistan                                             79.319383           \n",
       "Albania                                                 25.768823           \n",
       "American Samoa                                                NaN           \n",
       "Andorra                                                       NaN           \n",
       "\n",
       "                Bird species, threatened  \\\n",
       "country                                    \n",
       "Algeria                             15.0   \n",
       "Afghanistan                         16.0   \n",
       "Albania                              8.0   \n",
       "American Samoa                       8.0   \n",
       "Andorra                              3.0   \n",
       "\n",
       "                Business extent of disclosure index (0=less disclosure to 10=more disclosure)  \\\n",
       "country                                                                                         \n",
       "Algeria                                                       4.0                               \n",
       "Afghanistan                                                   8.0                               \n",
       "Albania                                                       9.0                               \n",
       "American Samoa                                                NaN                               \n",
       "Andorra                                                       NaN                               \n",
       "\n",
       "                Contributing family workers, female (% of female employment) (modeled ILO estimate)  \\\n",
       "country                                                                                               \n",
       "Algeria                                                  2.720000                                     \n",
       "Afghanistan                                             71.780998                                     \n",
       "Albania                                                 37.987000                                     \n",
       "American Samoa                                                NaN                                     \n",
       "Andorra                                                       NaN                                     \n",
       "\n",
       "                Contributing family workers, male (% of male employment) (modeled ILO estimate)  \\\n",
       "country                                                                                           \n",
       "Algeria                                                     1.836                                 \n",
       "Afghanistan                                                 9.606                                 \n",
       "Albania                                                    20.795                                 \n",
       "American Samoa                                                NaN                                 \n",
       "Andorra                                                       NaN                                 \n",
       "\n",
       "                Contributing family workers, total (% of total employment) (modeled ILO estimate)  \\\n",
       "country                                                                                             \n",
       "Algeria                                                  1.978000                                   \n",
       "Afghanistan                                             31.577999                                   \n",
       "Albania                                                 28.076000                                   \n",
       "American Samoa                                                NaN                                   \n",
       "Andorra                                                       NaN                                   \n",
       "\n",
       "                Cost of business start-up procedures (% of GNI per capita)  \\\n",
       "country                                                                      \n",
       "Algeria                                                       0.0            \n",
       "Afghanistan                                                   0.0            \n",
       "Albania                                                       0.0            \n",
       "American Samoa                                                NaN            \n",
       "Andorra                                                       NaN            \n",
       "\n",
       "                Cost of business start-up procedures, female (% of GNI per capita)  \\\n",
       "country                                                                              \n",
       "Algeria                                                      11.8                    \n",
       "Afghanistan                                                   6.4                    \n",
       "Albania                                                      11.3                    \n",
       "American Samoa                                                NaN                    \n",
       "Andorra                                                       NaN                    \n",
       "\n",
       "                ...  \\\n",
       "country         ...   \n",
       "Algeria         ...   \n",
       "Afghanistan     ...   \n",
       "Albania         ...   \n",
       "American Samoa  ...   \n",
       "Andorra         ...   \n",
       "\n",
       "                Unemployment, youth total (% of total labor force ages 15-24) (modeled ILO estimate)  \\\n",
       "country                                                                                                \n",
       "Algeria                                                 29.952999                                      \n",
       "Afghanistan                                              2.639000                                      \n",
       "Albania                                                 30.979000                                      \n",
       "American Samoa                                                NaN                                      \n",
       "Andorra                                                       NaN                                      \n",
       "\n",
       "                Urban population  Urban population (% of total population)  \\\n",
       "country                                                                      \n",
       "Algeria               30670086.0                                    72.629   \n",
       "Afghanistan            9477100.0                                    25.495   \n",
       "Albania                1728969.0                                    60.319   \n",
       "American Samoa           48339.0                                    87.153   \n",
       "Andorra                  67813.0                                    88.062   \n",
       "\n",
       "                Urban population growth (annual %)  \\\n",
       "country                                              \n",
       "Algeria                                   2.804996   \n",
       "Afghanistan                               3.350383   \n",
       "Albania                                   1.317162   \n",
       "American Samoa                           -0.299516   \n",
       "Andorra                                  -0.092859   \n",
       "\n",
       "                Vulnerable employment, female (% of female employment) (modeled ILO estimate)  \\\n",
       "country                                                                                         \n",
       "Algeria                                                 24.337001                               \n",
       "Afghanistan                                             95.573997                               \n",
       "Albania                                                 54.663000                               \n",
       "American Samoa                                                NaN                               \n",
       "Andorra                                                       NaN                               \n",
       "\n",
       "                Vulnerable employment, male (% of male employment) (modeled ILO estimate)  \\\n",
       "country                                                                                     \n",
       "Algeria                                                 27.227001                           \n",
       "Afghanistan                                             85.993001                           \n",
       "Albania                                                 54.994001                           \n",
       "American Samoa                                                NaN                           \n",
       "Andorra                                                       NaN                           \n",
       "\n",
       "                Vulnerable employment, total (% of total employment) (modeled ILO estimate)  \\\n",
       "country                                                                                       \n",
       "Algeria                                                 26.762000                             \n",
       "Afghanistan                                             89.378998                             \n",
       "Albania                                                 54.854000                             \n",
       "American Samoa                                                NaN                             \n",
       "Andorra                                                       NaN                             \n",
       "\n",
       "                Wage and salaried workers, female (% of female employment) (modeled ILO estimate)  \\\n",
       "country                                                                                             \n",
       "Algeria                                                 73.734001                                   \n",
       "Afghanistan                                              4.282000                                   \n",
       "Albania                                                 44.320999                                   \n",
       "American Samoa                                                NaN                                   \n",
       "Andorra                                                       NaN                                   \n",
       "\n",
       "                Wage and salaried workers, male (% of male employment) (modeled ILO estimate)  \\\n",
       "country                                                                                         \n",
       "Algeria                                                 68.160004                               \n",
       "Afghanistan                                             13.292000                               \n",
       "Albania                                                 41.542999                               \n",
       "American Samoa                                                NaN                               \n",
       "Andorra                                                       NaN                               \n",
       "\n",
       "                Wage and salaried workers, total (% of total employment) (modeled ILO estimate)  \n",
       "country                                                                                          \n",
       "Algeria                                                 69.056000                                \n",
       "Afghanistan                                             10.108000                                \n",
       "Albania                                                 42.720001                                \n",
       "American Samoa                                                NaN                                \n",
       "Andorra                                                       NaN                                \n",
       "\n",
       "[5 rows x 209 columns]"
      ]
     },
     "execution_count": 25,
     "metadata": {},
     "output_type": "execute_result"
    }
   ],
   "source": [
    "world_bank_data = pd.read_csv(\"world_bank_data.csv\", index_col = 'country')\n",
    "world_bank_data.head(5)"
   ]
  },
  {
   "cell_type": "markdown",
   "metadata": {},
   "source": [
    "There are some missing values. For the sake of convenience and of keeping the lab short, we will fill them all with zeros. "
   ]
  },
  {
   "cell_type": "code",
   "execution_count": 26,
   "metadata": {},
   "outputs": [],
   "source": [
    "world_bank_data = world_bank_data.fillna(0)"
   ]
  },
  {
   "cell_type": "markdown",
   "metadata": {
    "slideshow": {
     "slide_type": "slide"
    }
   },
   "source": [
    "It often makes sense to _center and scale_ our data so that features with higher variance don't dominate the analysis. For example, without standardization, statistics like population will completely dominate features like \"percent of total population that live in urban areas.\" This is because the range of populations is on the order of billions, whereas percentages are always between 0 and 100. The ultimate effect is that many of our columns are not really considered by our clustering algorithm.\n"
   ]
  },
  {
   "cell_type": "markdown",
   "metadata": {
    "deletable": false
   },
   "source": [
    "<br/><br/>\n",
    "\n",
    "<hr style=\"border: 1px solid #fdb515;\" />\n",
    "\n",
    "\n",
    "## Question 4\n",
    "\n",
    "Below, fit a `cluster.KMeans` object called `kmeans_q4` with four clusters and a `random_state` parameter of 42.\n",
    "\n",
    "Make sure you should use a centered and scaled version of the world bank data. **By centered and scaled we mean that the mean in each column should be zero and the variance should be 1.** To do this, you can either do it yourself or learn more about `StandardScaler` inside `sklearn.preprocessing`."
   ]
  },
  {
   "cell_type": "code",
   "execution_count": null,
   "metadata": {},
   "outputs": [],
   "source": [
    "...\n",
    "kmeans_q4 = ..."
   ]
  },
  {
   "cell_type": "code",
   "execution_count": null,
   "metadata": {
    "deletable": false,
    "editable": false
   },
   "outputs": [],
   "source": [
    "# Grader for Q4 - should return True\n",
    "sorted(np.unique(kmeans_q4.labels_, return_counts = True)[1]) == [3, 25, 90, 99]"
   ]
  },
  {
   "cell_type": "markdown",
   "metadata": {},
   "source": [
    "Looking at these new clusters, we see that they seem to correspond to:\n",
    "\n",
    "0: Very small countries.\n",
    "\n",
    "1: Developed countries.\n",
    "\n",
    "2: Less developed countries.\n",
    "\n",
    "3: Huge countries."
   ]
  },
  {
   "cell_type": "code",
   "execution_count": null,
   "metadata": {
    "scrolled": true
   },
   "outputs": [],
   "source": [
    "# just run this cell\n",
    "\n",
    "labeled_world_bank_data_q4 = pd.Series(kmeans_q4.labels_, name = \"cluster\", index  = world_bank_data.index).to_frame()\n",
    "\n",
    "for c in range(4):\n",
    "    print(f\">>> Cluster {c}:\")\n",
    "    print(list(labeled_world_bank_data_q4.query(f'cluster == {c}').index))\n",
    "    print()"
   ]
  },
  {
   "cell_type": "markdown",
   "metadata": {},
   "source": [
    "# Congratulations! You finished the lab!\n",
    "\n",
    "**Please upload the finished notebook to Canvas**"
   ]
  },
  {
   "cell_type": "code",
   "execution_count": null,
   "metadata": {},
   "outputs": [],
   "source": []
  }
 ],
 "metadata": {
  "kernelspec": {
   "display_name": "Python 3 (ipykernel)",
   "language": "python",
   "name": "python3"
  },
  "language_info": {
   "codemirror_mode": {
    "name": "ipython",
    "version": 3
   },
   "file_extension": ".py",
   "mimetype": "text/x-python",
   "name": "python",
   "nbconvert_exporter": "python",
   "pygments_lexer": "ipython3",
   "version": "3.9.12"
  }
 },
 "nbformat": 4,
 "nbformat_minor": 4
}
