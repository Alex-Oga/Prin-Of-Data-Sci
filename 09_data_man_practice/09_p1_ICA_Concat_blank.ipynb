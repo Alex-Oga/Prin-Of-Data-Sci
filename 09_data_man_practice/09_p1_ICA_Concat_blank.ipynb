{
 "cells": [
  {
   "cell_type": "markdown",
   "metadata": {},
   "source": [
    "# In-Class Assignment\n",
    "## (Concatenate dataframes)\n",
    "Given the following csv files:\n",
    "\n",
    "**flight1.csv**\n",
    "\n",
    ">|Date|Time|Flight| Origin| Destination|\n",
    "|---|---|---|---|---|\n",
    "|20201015|0900|TM102|Salaya|Phuket|\n",
    "|20201015|0930|TM105|Bangkok|Krabi|\n",
    "|20201015|0950|SY605|KhonKaen|Bangkok|\n",
    "|20201015|1010|UG222|Bangkok|Singapore|\n",
    "\n",
    "**flight2.csv**\n",
    "\n",
    ">|Date|Time|Flight| Origin| Destination|\n",
    "|---|---|---|---|---|\n",
    "|20201015|1100|YK100|Bangkok|Hongkong|\n",
    "|20201015|1115|IC161|Krabi|Singapore|\n",
    "|20201015|1150|IC165|Krabi|Bangkok|\n",
    "|20201015|1316|MK299|Salaya|Bangkok |\n",
    "\n",
    "**flight3.csv**\n",
    "\n",
    ">|Date|Time|Visibility|\n",
    "|---|---|---|\n",
    "|20201015|0930|8|\n",
    "|20201015|1010|10|\n",
    "|20201015|1100|10|\n",
    "\n",
    "**flight4.csv**\n",
    "\n",
    ">|WIND|PM25|\n",
    "|---|---|\n",
    "|20|57|\n",
    "|27|43|"
   ]
  },
  {
   "cell_type": "code",
   "execution_count": null,
   "metadata": {},
   "outputs": [],
   "source": [
    "import pandas as pd\n",
    "flight1 = pd.read_csv(\"./datasets/flight1.csv\")\n",
    "flight1 = pd.read_csv(\"./datasets/flight1.csv\")\n",
    "flight1 = pd.read_csv(\"./datasets/flight1.csv\")"
   ]
  },
  {
   "cell_type": "markdown",
   "metadata": {},
   "source": [
    "## Task #1: \n",
    "Concatenate data from flight1.csv and flight2.csv , assign the result to a variable **df5**."
   ]
  },
  {
   "cell_type": "code",
   "execution_count": null,
   "metadata": {},
   "outputs": [],
   "source": []
  },
  {
   "cell_type": "markdown",
   "metadata": {},
   "source": [
    "**Q: Do we have NaN in our dataframe? Why?**\n",
    "\n",
    "A:"
   ]
  },
  {
   "cell_type": "markdown",
   "metadata": {},
   "source": [
    "## Task #2:\n",
    "Concatenate data from flight1.csv, flight2.csv and flight3.csv , assign the result to a variable **df6**."
   ]
  },
  {
   "cell_type": "code",
   "execution_count": null,
   "metadata": {},
   "outputs": [],
   "source": []
  },
  {
   "cell_type": "markdown",
   "metadata": {},
   "source": [
    "**Q: Why we have NaN in our dataframe (be specific)?**\n",
    "\n",
    "A:"
   ]
  },
  {
   "cell_type": "markdown",
   "metadata": {},
   "source": [
    "## Task #3:\n",
    "Concatenate data from flight1.csv,flight2.csv,flight3.csv and flight4.csv , assign the result to a variable **df7**."
   ]
  },
  {
   "cell_type": "code",
   "execution_count": null,
   "metadata": {},
   "outputs": [],
   "source": []
  },
  {
   "cell_type": "markdown",
   "metadata": {},
   "source": [
    "**Q: Why we have NaN in our dataframe addional to what we got from the previous step (be specific)?**\n",
    "\n",
    "A:"
   ]
  }
 ],
 "metadata": {
  "kernelspec": {
   "display_name": "Python 3 (ipykernel)",
   "language": "python",
   "name": "python3"
  },
  "language_info": {
   "codemirror_mode": {
    "name": "ipython",
    "version": 3
   },
   "file_extension": ".py",
   "mimetype": "text/x-python",
   "name": "python",
   "nbconvert_exporter": "python",
   "pygments_lexer": "ipython3",
   "version": "3.9.12"
  }
 },
 "nbformat": 4,
 "nbformat_minor": 2
}
