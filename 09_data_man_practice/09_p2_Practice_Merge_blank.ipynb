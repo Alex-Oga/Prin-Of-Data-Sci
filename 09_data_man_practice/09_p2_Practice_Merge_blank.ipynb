{
 "cells": [
  {
   "cell_type": "markdown",
   "metadata": {},
   "source": [
    "# In-Class Assignment \n",
    "## (Concatenate dataframes)\n",
    "Given the following csv files\n",
    "\n",
    "**book1.csv**\n",
    "\n",
    ">|ISBN|TITLE|PRICE|\n",
    "|---|---|---|\n",
    "|978-3-11-148111-1|Introduction to DS|35|\n",
    "|978-3-12-148143-2|Yoga for Everyone|12|\n",
    "|978-3-37-148544-7|Nutrition|42|\n",
    "|978-3-25-148007-5|Gardening|17|\n",
    "\n",
    "**book2.csv**\n",
    "\n",
    ">|ISBN|PUBLISHER|\n",
    "|---|---|\n",
    "|978-3-11-148111-1|CS Press|\n",
    "|978-3-12-148143-2|Tom & Timmy|\n",
    "|978-3-37-148544-7|OhMyGod|\n",
    "|978-3-25-148007-5|OhMyGod|\n",
    "\n",
    "**book3.csv**\n",
    "\n",
    ">|ISBN|AUTHOR|\n",
    "|---|---|\n",
    "|978-3-11-148111-1|Ben Kenobi|\n",
    "|978-3-11-148111-1|Luke Skywalker|\n",
    "|978-3-12-148143-2|Minch Yoda|\n",
    "|978-3-37-148544-7|Han Solo|\n",
    "|978-3-25-148007-5|Darth Vader|\n",
    "|978-3-25-148007-5|Luke Skywalker|\n",
    "|978-3-25-148007-5|Ben Kenobi|\n",
    "\n",
    "**book4.csv**\n",
    "\n",
    ">|PUB.|CITY|\n",
    "|---|---|\n",
    "|CS Press|Phuket|\n",
    "|Tom & Timmy|Krabi|\n",
    "|OhMyGod|Bangkok|"
   ]
  },
  {
   "cell_type": "code",
   "execution_count": 8,
   "metadata": {},
   "outputs": [],
   "source": [
    "import pandas as pd\n",
    "book1 = pd.read_csv(\"./datasets/book1.csv\")\n",
    "book2 = pd.read_csv(\"./datasets/book2.csv\")\n",
    "book3 = pd.read_csv(\"./datasets/book3.csv\")\n",
    "book4 = pd.read_csv(\"./datasets/book4.csv\")"
   ]
  },
  {
   "cell_type": "markdown",
   "metadata": {},
   "source": [
    "## Task #1: \n",
    "File _book1.csv_ has basic information about the book. However, it doesn't have information about the publisher. Create a script such that the dataframe has the basic information from book1 with the information of the publisher of each book, assign the result to a variable **df5**."
   ]
  },
  {
   "cell_type": "code",
   "execution_count": 9,
   "metadata": {},
   "outputs": [
    {
     "data": {
      "text/html": [
       "<div>\n",
       "<style scoped>\n",
       "    .dataframe tbody tr th:only-of-type {\n",
       "        vertical-align: middle;\n",
       "    }\n",
       "\n",
       "    .dataframe tbody tr th {\n",
       "        vertical-align: top;\n",
       "    }\n",
       "\n",
       "    .dataframe thead th {\n",
       "        text-align: right;\n",
       "    }\n",
       "</style>\n",
       "<table border=\"1\" class=\"dataframe\">\n",
       "  <thead>\n",
       "    <tr style=\"text-align: right;\">\n",
       "      <th></th>\n",
       "      <th>ISBN</th>\n",
       "      <th>TITLE</th>\n",
       "      <th>PRICE</th>\n",
       "      <th>PUBLISHER</th>\n",
       "    </tr>\n",
       "  </thead>\n",
       "  <tbody>\n",
       "    <tr>\n",
       "      <th>0</th>\n",
       "      <td>978-3-11-148111-1</td>\n",
       "      <td>Introduction to DS</td>\n",
       "      <td>35</td>\n",
       "      <td>CS Press</td>\n",
       "    </tr>\n",
       "    <tr>\n",
       "      <th>1</th>\n",
       "      <td>978-3-12-148143-2</td>\n",
       "      <td>Yoga for Everyone</td>\n",
       "      <td>12</td>\n",
       "      <td>Tom &amp; Timmy</td>\n",
       "    </tr>\n",
       "    <tr>\n",
       "      <th>2</th>\n",
       "      <td>978-3-37-148544-7</td>\n",
       "      <td>Nutrition</td>\n",
       "      <td>42</td>\n",
       "      <td>OhMyGod</td>\n",
       "    </tr>\n",
       "    <tr>\n",
       "      <th>3</th>\n",
       "      <td>978-3-25-148007-5</td>\n",
       "      <td>Gardening</td>\n",
       "      <td>17</td>\n",
       "      <td>OhMyGod</td>\n",
       "    </tr>\n",
       "  </tbody>\n",
       "</table>\n",
       "</div>"
      ],
      "text/plain": [
       "                ISBN               TITLE  PRICE    PUBLISHER\n",
       "0  978-3-11-148111-1  Introduction to DS     35     CS Press\n",
       "1  978-3-12-148143-2   Yoga for Everyone     12  Tom & Timmy\n",
       "2  978-3-37-148544-7           Nutrition     42      OhMyGod\n",
       "3  978-3-25-148007-5           Gardening     17      OhMyGod"
      ]
     },
     "execution_count": 9,
     "metadata": {},
     "output_type": "execute_result"
    }
   ],
   "source": [
    "df5 = book1.merge(book2, left_on=\"ISBN\", right_on=\"ISBN\")\n",
    "df5"
   ]
  },
  {
   "cell_type": "markdown",
   "metadata": {},
   "source": [
    "## Task #2:\n",
    "From df5, we also want to know the the city of the publisher. Create a dataframe that has the book details with the city of the publisher. Assign the result in a variable **df6**. "
   ]
  },
  {
   "cell_type": "code",
   "execution_count": 12,
   "metadata": {},
   "outputs": [
    {
     "data": {
      "text/html": [
       "<div>\n",
       "<style scoped>\n",
       "    .dataframe tbody tr th:only-of-type {\n",
       "        vertical-align: middle;\n",
       "    }\n",
       "\n",
       "    .dataframe tbody tr th {\n",
       "        vertical-align: top;\n",
       "    }\n",
       "\n",
       "    .dataframe thead th {\n",
       "        text-align: right;\n",
       "    }\n",
       "</style>\n",
       "<table border=\"1\" class=\"dataframe\">\n",
       "  <thead>\n",
       "    <tr style=\"text-align: right;\">\n",
       "      <th></th>\n",
       "      <th>ISBN</th>\n",
       "      <th>TITLE</th>\n",
       "      <th>PRICE</th>\n",
       "      <th>PUBLISHER</th>\n",
       "      <th>PUB.</th>\n",
       "      <th>CITY</th>\n",
       "    </tr>\n",
       "  </thead>\n",
       "  <tbody>\n",
       "    <tr>\n",
       "      <th>0</th>\n",
       "      <td>978-3-11-148111-1</td>\n",
       "      <td>Introduction to DS</td>\n",
       "      <td>35</td>\n",
       "      <td>CS Press</td>\n",
       "      <td>CS Press</td>\n",
       "      <td>Phuket</td>\n",
       "    </tr>\n",
       "    <tr>\n",
       "      <th>1</th>\n",
       "      <td>978-3-12-148143-2</td>\n",
       "      <td>Yoga for Everyone</td>\n",
       "      <td>12</td>\n",
       "      <td>Tom &amp; Timmy</td>\n",
       "      <td>Tom &amp; Timmy</td>\n",
       "      <td>Krabi</td>\n",
       "    </tr>\n",
       "    <tr>\n",
       "      <th>2</th>\n",
       "      <td>978-3-37-148544-7</td>\n",
       "      <td>Nutrition</td>\n",
       "      <td>42</td>\n",
       "      <td>OhMyGod</td>\n",
       "      <td>OhMyGod</td>\n",
       "      <td>Bangkok</td>\n",
       "    </tr>\n",
       "    <tr>\n",
       "      <th>3</th>\n",
       "      <td>978-3-25-148007-5</td>\n",
       "      <td>Gardening</td>\n",
       "      <td>17</td>\n",
       "      <td>OhMyGod</td>\n",
       "      <td>OhMyGod</td>\n",
       "      <td>Bangkok</td>\n",
       "    </tr>\n",
       "  </tbody>\n",
       "</table>\n",
       "</div>"
      ],
      "text/plain": [
       "                ISBN               TITLE  PRICE    PUBLISHER         PUB.  \\\n",
       "0  978-3-11-148111-1  Introduction to DS     35     CS Press     CS Press   \n",
       "1  978-3-12-148143-2   Yoga for Everyone     12  Tom & Timmy  Tom & Timmy   \n",
       "2  978-3-37-148544-7           Nutrition     42      OhMyGod      OhMyGod   \n",
       "3  978-3-25-148007-5           Gardening     17      OhMyGod      OhMyGod   \n",
       "\n",
       "      CITY  \n",
       "0   Phuket  \n",
       "1    Krabi  \n",
       "2  Bangkok  \n",
       "3  Bangkok  "
      ]
     },
     "execution_count": 12,
     "metadata": {},
     "output_type": "execute_result"
    }
   ],
   "source": [
    "df6 = df5.merge(book4, left_on=\"PUBLISHER\", right_on=\"PUB.\")\n",
    "df6"
   ]
  },
  {
   "cell_type": "code",
   "execution_count": null,
   "metadata": {},
   "outputs": [],
   "source": []
  }
 ],
 "metadata": {
  "kernelspec": {
   "display_name": "Python 3 (ipykernel)",
   "language": "python",
   "name": "python3"
  },
  "language_info": {
   "codemirror_mode": {
    "name": "ipython",
    "version": 3
   },
   "file_extension": ".py",
   "mimetype": "text/x-python",
   "name": "python",
   "nbconvert_exporter": "python",
   "pygments_lexer": "ipython3",
   "version": "3.9.12"
  }
 },
 "nbformat": 4,
 "nbformat_minor": 2
}
