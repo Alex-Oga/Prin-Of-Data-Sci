{
 "cells": [
  {
   "cell_type": "code",
   "execution_count": 12,
   "id": "6886d152",
   "metadata": {},
   "outputs": [
    {
     "name": "stdout",
     "output_type": "stream",
     "text": [
      "435500\n",
      "74.3\n"
     ]
    }
   ],
   "source": [
    "total = 29000\n",
    "a = 29000\n",
    "plus = 750\n",
    "\n",
    "for i in range(12):\n",
    "    a += plus\n",
    "    total += a\n",
    "print(total)\n",
    "\n",
    "total -= 64000\n",
    "print(total/5000)"
   ]
  },
  {
   "cell_type": "code",
   "execution_count": null,
   "id": "f96974fe",
   "metadata": {},
   "outputs": [],
   "source": []
  }
 ],
 "metadata": {
  "kernelspec": {
   "display_name": "Python 3 (ipykernel)",
   "language": "python",
   "name": "python3"
  },
  "language_info": {
   "codemirror_mode": {
    "name": "ipython",
    "version": 3
   },
   "file_extension": ".py",
   "mimetype": "text/x-python",
   "name": "python",
   "nbconvert_exporter": "python",
   "pygments_lexer": "ipython3",
   "version": "3.9.12"
  }
 },
 "nbformat": 4,
 "nbformat_minor": 5
}
