{
 "cells": [
  {
   "cell_type": "markdown",
   "metadata": {},
   "source": [
    "# Pandas - Series\n",
    "## TOPICS:\n",
    "1. What is Pandas?\n",
    "2. Installation\n",
    "3. Series\n",
    "* 3.1 CREATE\n",
    "* 3.2 READ\n",
    "* 3.3 UPDATE\n",
    "* 3.4 DELETE\n",
    "4. Operations with Series\n",
    "5. A first look at DataFrame (There will be more detail in a dedicated notebook about a dataframe.)\n",
    "\n",
    "\n",
    "\n"
   ]
  },
  {
   "cell_type": "markdown",
   "metadata": {},
   "source": [
    "## 1. What is Pandas?\n",
    "\n",
    "As you may guess that Pandas is very important. \n",
    "\n",
    "What is the name of the course main textbook? \n",
    "\n",
    "Answer: **Pandas for Everyone**, Daniel Y. Chen\n",
    "\n",
    "* A library to help us deal with data.\n",
    "* It also utilizes NumPy underneath.\n",
    "* Some key parts in Pandas were inspired by R features (such as a data frame)\n",
    "* We can use pandas to import data from various file format.\n",
    "* We can use it for visualization.\n",
    "* It is an open source project library."
   ]
  },
  {
   "cell_type": "markdown",
   "metadata": {},
   "source": [
    "## 2. Installation\n",
    "Exactly the same process as installing NumPy. However, this time, we search for **pandas**.\n",
    "![Install Pandas](assets/InstallPandas1.png)\n",
    "\n",
    "Now,click **Apply** \n",
    "\n",
    "_Note: You may see a longer list than this._\n",
    "\n",
    "![Install Pandas](assets/InstallPandas2.png)\n",
    "\n"
   ]
  },
  {
   "cell_type": "markdown",
   "metadata": {},
   "source": [
    "** Import **\n",
    "Very similar to what we did with NumPy. Let's import both of them"
   ]
  },
  {
   "cell_type": "code",
   "execution_count": 1,
   "metadata": {},
   "outputs": [],
   "source": [
    "import pandas as pd\n",
    "import numpy as np "
   ]
  },
  {
   "cell_type": "markdown",
   "metadata": {},
   "source": [
    "## 3. Series\n",
    "Series is a 1-d array that can hold data and the associated label. We may consider a series as a mixture of **an 1-d array** and **a dictionary**. For most of the parts, a series works like 1-d array. The part that makes it work like a dictionary is that we can access the data by the label. This is very similar to using a key to access the value in dictionary.\n"
   ]
  },
  {
   "cell_type": "code",
   "execution_count": 2,
   "metadata": {},
   "outputs": [],
   "source": [
    "name_list = [\"Tom\", \"Tim\", \"Ted\"]       # a list of strings\n",
    "gpa_list = [2.3,2.4,2.5]               # a list of floats\n",
    "np_arr = np.array(gpa_list)             # a numpy array\n",
    "dct = {\"Tom\":2.3, \"Tim\":2.4, \"Ted\":2.5} # a dictionary "
   ]
  },
  {
   "cell_type": "markdown",
   "metadata": {},
   "source": [
    "### 3.1 CREATE\n",
    "We can create a series from a list."
   ]
  },
  {
   "cell_type": "code",
   "execution_count": 3,
   "metadata": {},
   "outputs": [
    {
     "data": {
      "text/plain": [
       "0    2.3\n",
       "1    2.4\n",
       "2    2.5\n",
       "dtype: float64"
      ]
     },
     "execution_count": 3,
     "metadata": {},
     "output_type": "execute_result"
    }
   ],
   "source": [
    "pd_s1 = pd.Series( data = gpa_list)\n",
    "pd_s1"
   ]
  },
  {
   "cell_type": "markdown",
   "metadata": {},
   "source": [
    "The each data point can have **a label**. Think about it as an index."
   ]
  },
  {
   "cell_type": "code",
   "execution_count": 4,
   "metadata": {},
   "outputs": [
    {
     "data": {
      "text/plain": [
       "Tom    2.3\n",
       "Tim    2.4\n",
       "Ted    2.5\n",
       "dtype: float64"
      ]
     },
     "execution_count": 4,
     "metadata": {},
     "output_type": "execute_result"
    }
   ],
   "source": [
    "pd_s2 = pd.Series( data = gpa_list, index = name_list)\n",
    "pd_s2"
   ]
  },
  {
   "cell_type": "markdown",
   "metadata": {},
   "source": [
    "The order of the parameters indicates what they suppose to be. So, the first one is the data points, the second one is the label. Hence we can write it in a shorter way:"
   ]
  },
  {
   "cell_type": "code",
   "execution_count": 5,
   "metadata": {},
   "outputs": [
    {
     "data": {
      "text/plain": [
       "Tom    2.3\n",
       "Tim    2.4\n",
       "Ted    2.5\n",
       "dtype: float64"
      ]
     },
     "execution_count": 5,
     "metadata": {},
     "output_type": "execute_result"
    }
   ],
   "source": [
    "pd_s3 = pd.Series(gpa_list, name_list)\n",
    "pd_s3"
   ]
  },
  {
   "cell_type": "markdown",
   "metadata": {},
   "source": [
    "We can also create a series from a NumPy array as well."
   ]
  },
  {
   "cell_type": "code",
   "execution_count": 6,
   "metadata": {},
   "outputs": [
    {
     "data": {
      "text/plain": [
       "Tom    2.3\n",
       "Tim    2.4\n",
       "Ted    2.5\n",
       "dtype: float64"
      ]
     },
     "execution_count": 6,
     "metadata": {},
     "output_type": "execute_result"
    }
   ],
   "source": [
    "pd_s4 = pd.Series(np_arr, name_list)\n",
    "pd_s4"
   ]
  },
  {
   "cell_type": "markdown",
   "metadata": {},
   "source": [
    "If we have a dictionary already, we can create a series from a dictionary."
   ]
  },
  {
   "cell_type": "code",
   "execution_count": 7,
   "metadata": {},
   "outputs": [
    {
     "data": {
      "text/plain": [
       "Tom    2.3\n",
       "Tim    2.4\n",
       "Ted    2.5\n",
       "dtype: float64"
      ]
     },
     "execution_count": 7,
     "metadata": {},
     "output_type": "execute_result"
    }
   ],
   "source": [
    "pd_s5 = pd.Series(dct)\n",
    "pd_s5"
   ]
  },
  {
   "cell_type": "markdown",
   "metadata": {},
   "source": [
    "### 3.2 READ\n",
    "We can access the element by using the label.\n",
    "If we don't specify the label manually. The row number (index) can be used to access the element."
   ]
  },
  {
   "cell_type": "code",
   "execution_count": 8,
   "metadata": {
    "tags": []
   },
   "outputs": [
    {
     "name": "stdout",
     "output_type": "stream",
     "text": [
      "777.7\n",
      "888.8\n",
      "999.9\n"
     ]
    }
   ],
   "source": [
    "data_list = [777.7, 888.8, 999.9] #Python list\n",
    "s6 = pd.Series( data_list ) # a Pandas Series\n",
    "print(s6[0]) # Access by using numerical index\n",
    "print(s6[1])\n",
    "print(s6[2])"
   ]
  },
  {
   "cell_type": "markdown",
   "metadata": {},
   "source": [
    "If we manually set the lable, we can use the label."
   ]
  },
  {
   "cell_type": "code",
   "execution_count": 9,
   "metadata": {
    "tags": []
   },
   "outputs": [
    {
     "name": "stdout",
     "output_type": "stream",
     "text": [
      "22\n",
      "25\n",
      "27\n"
     ]
    }
   ],
   "source": [
    "s7 = pd.Series( [22,25,27] , ['Cold','OK','Warm'] )\n",
    "print(s7['Cold'])\n",
    "print(s7['OK'])\n",
    "print(s7['Warm'])"
   ]
  },
  {
   "cell_type": "markdown",
   "metadata": {},
   "source": [
    "### 3.3 Update\n",
    "* Change existing value\n",
    "* Append new data to a series\n",
    "We can update/change existing value by assigning a new value to it.\n"
   ]
  },
  {
   "cell_type": "code",
   "execution_count": 10,
   "metadata": {},
   "outputs": [
    {
     "data": {
      "text/plain": [
       "Cold    19\n",
       "OK      25\n",
       "Warm    27\n",
       "dtype: int64"
      ]
     },
     "execution_count": 10,
     "metadata": {},
     "output_type": "execute_result"
    }
   ],
   "source": [
    "s8 = pd.Series( [22,25,27] , ['Cold','OK','Warm'] )\n",
    "s8['Cold']=19\n",
    "s8"
   ]
  },
  {
   "cell_type": "markdown",
   "metadata": {},
   "source": [
    "We can also add/append a new value to the series."
   ]
  },
  {
   "cell_type": "code",
   "execution_count": 11,
   "metadata": {},
   "outputs": [
    {
     "data": {
      "text/plain": [
       "Cold    19\n",
       "OK      25\n",
       "Warm    27\n",
       "Hot     35\n",
       "dtype: int64"
      ]
     },
     "execution_count": 11,
     "metadata": {},
     "output_type": "execute_result"
    }
   ],
   "source": [
    "s8['Hot'] = 35\n",
    "s8"
   ]
  },
  {
   "cell_type": "code",
   "execution_count": 12,
   "metadata": {
    "scrolled": true
   },
   "outputs": [
    {
     "data": {
      "text/plain": [
       "Cold    19\n",
       "OK      25\n",
       "Warm    27\n",
       "Hot     35\n",
       "OMG     -4\n",
       "dtype: int64"
      ]
     },
     "execution_count": 12,
     "metadata": {},
     "output_type": "execute_result"
    }
   ],
   "source": [
    "s8['OMG'] = -4\n",
    "s8"
   ]
  },
  {
   "cell_type": "markdown",
   "metadata": {},
   "source": [
    "### 3.4 Delete\n",
    "We can call a drop funtion to remove an item. This function will return **a new series**. **The current one still holds all original elements.**"
   ]
  },
  {
   "cell_type": "code",
   "execution_count": 13,
   "metadata": {
    "tags": []
   },
   "outputs": [
    {
     "name": "stdout",
     "output_type": "stream",
     "text": [
      "Cold    22\n",
      "OK      25\n",
      "Warm    27\n",
      "dtype: int64\n",
      "---\n",
      "OK    25\n",
      "dtype: int64\n"
     ]
    }
   ],
   "source": [
    "s9 = pd.Series( [22,25,27] , ['Cold','OK','Warm'] )\n",
    "s10 = s9.drop(labels=['Cold','Warm'])\n",
    "print(s9)\n",
    "print(\"---\")\n",
    "print(s10)"
   ]
  },
  {
   "cell_type": "code",
   "execution_count": 15,
   "metadata": {},
   "outputs": [
    {
     "data": {
      "text/plain": [
       "Coffee    15.0\n",
       "Coke       NaN\n",
       "Milo       NaN\n",
       "Tea       27.0\n",
       "dtype: float64"
      ]
     },
     "execution_count": 15,
     "metadata": {},
     "output_type": "execute_result"
    }
   ],
   "source": [
    "s3 = pd.Series( [10,20,30], ['Coffee','Tea','Coke'])\n",
    "s4 = pd.Series( [5,6,7], ['Coffee','Milo','Tea'])\n",
    "s3+s4"
   ]
  },
  {
   "cell_type": "markdown",
   "metadata": {},
   "source": [
    "## 5. A first look at DataFrame\n",
    "DataFrame is the main data structure we will use to hold data in the very similar to how Excel hold data."
   ]
  },
  {
   "cell_type": "code",
   "execution_count": 16,
   "metadata": {},
   "outputs": [
    {
     "data": {
      "text/html": [
       "<div>\n",
       "<style scoped>\n",
       "    .dataframe tbody tr th:only-of-type {\n",
       "        vertical-align: middle;\n",
       "    }\n",
       "\n",
       "    .dataframe tbody tr th {\n",
       "        vertical-align: top;\n",
       "    }\n",
       "\n",
       "    .dataframe thead th {\n",
       "        text-align: right;\n",
       "    }\n",
       "</style>\n",
       "<table border=\"1\" class=\"dataframe\">\n",
       "  <thead>\n",
       "    <tr style=\"text-align: right;\">\n",
       "      <th></th>\n",
       "      <th>m</th>\n",
       "      <th>n</th>\n",
       "      <th>o</th>\n",
       "    </tr>\n",
       "  </thead>\n",
       "  <tbody>\n",
       "    <tr>\n",
       "      <th>A</th>\n",
       "      <td>0.696469</td>\n",
       "      <td>0.286139</td>\n",
       "      <td>0.226851</td>\n",
       "    </tr>\n",
       "    <tr>\n",
       "      <th>B</th>\n",
       "      <td>0.551315</td>\n",
       "      <td>0.719469</td>\n",
       "      <td>0.423106</td>\n",
       "    </tr>\n",
       "    <tr>\n",
       "      <th>C</th>\n",
       "      <td>0.980764</td>\n",
       "      <td>0.684830</td>\n",
       "      <td>0.480932</td>\n",
       "    </tr>\n",
       "    <tr>\n",
       "      <th>D</th>\n",
       "      <td>0.392118</td>\n",
       "      <td>0.343178</td>\n",
       "      <td>0.729050</td>\n",
       "    </tr>\n",
       "  </tbody>\n",
       "</table>\n",
       "</div>"
      ],
      "text/plain": [
       "          m         n         o\n",
       "A  0.696469  0.286139  0.226851\n",
       "B  0.551315  0.719469  0.423106\n",
       "C  0.980764  0.684830  0.480932\n",
       "D  0.392118  0.343178  0.729050"
      ]
     },
     "execution_count": 16,
     "metadata": {},
     "output_type": "execute_result"
    }
   ],
   "source": [
    "from numpy.random import rand\n",
    "np.random.seed(123)\n",
    "\n",
    "# Note: rand(4,3) returns a numpy array of random values  (4 rows 3 columns).\n",
    "df = pd.DataFrame( rand(4,3) , ['A','B','C','D'], ['m','n','o'] )\n",
    "df"
   ]
  },
  {
   "cell_type": "markdown",
   "metadata": {},
   "source": [
    "Looking at the result above, if we look at the first column only, we are seeing something that looks like a series. This gives us a hint that a dataframe seems like a collection of series."
   ]
  },
  {
   "cell_type": "code",
   "execution_count": 17,
   "metadata": {},
   "outputs": [
    {
     "data": {
      "text/plain": [
       "A    0.696469\n",
       "B    0.551315\n",
       "C    0.980764\n",
       "D    0.392118\n",
       "Name: m, dtype: float64"
      ]
     },
     "execution_count": 17,
     "metadata": {},
     "output_type": "execute_result"
    }
   ],
   "source": [
    "df[\"m\"]"
   ]
  },
  {
   "cell_type": "code",
   "execution_count": null,
   "metadata": {},
   "outputs": [],
   "source": []
  }
 ],
 "metadata": {
  "interpreter": {
   "hash": "405080deab2e1af9babd8f12d46ba601e764630e3c89e7e1068be70282be755a"
  },
  "kernelspec": {
   "display_name": "Python 3 (ipykernel)",
   "language": "python",
   "name": "python3"
  },
  "language_info": {
   "codemirror_mode": {
    "name": "ipython",
    "version": 3
   },
   "file_extension": ".py",
   "mimetype": "text/x-python",
   "name": "python",
   "nbconvert_exporter": "python",
   "pygments_lexer": "ipython3",
   "version": "3.9.12"
  }
 },
 "nbformat": 4,
 "nbformat_minor": 2
}
