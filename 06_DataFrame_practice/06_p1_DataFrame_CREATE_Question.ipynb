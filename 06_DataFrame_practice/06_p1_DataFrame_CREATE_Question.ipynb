{
 "cells": [
  {
   "cell_type": "markdown",
   "metadata": {},
   "source": [
    "## DataFrame - Practice1 - CREATE\n",
    "Q1. Before you can use pandas, what code do you need to do it (once)? Type and the code below."
   ]
  },
  {
   "cell_type": "code",
   "execution_count": 1,
   "metadata": {},
   "outputs": [],
   "source": [
    "# Q1 Type the answer here\n",
    "import..."
   ]
  },
  {
   "cell_type": "markdown",
   "metadata": {},
   "source": [
    "Q2. Create a dataframe as shown here.\n",
    "\n",
    "| ` ` | `StudentID` | `NickName` | `Major` |\n",
    "| --- | --- | --- | --- |\n",
    "| 0 | 6781234 | Tom | BA |\n",
    "| 1 | 678222 | Tim | CH |\n",
    "| 2 | 678333 | Ted | CS |\n",
    "| 3 | 678444 | Tan | FS |\n"
   ]
  },
  {
   "cell_type": "code",
   "execution_count": null,
   "metadata": {},
   "outputs": [],
   "source": [
    "# Q2 Type your answer here\n",
    "df1 =  "
   ]
  },
  {
   "cell_type": "markdown",
   "metadata": {},
   "source": [
    "Q3. Create a dataframe with data as shown in Q2. Set the index label are \"Thomas\", \"Timmothy\", \"Teddy\", \"Tenet\"."
   ]
  },
  {
   "cell_type": "code",
   "execution_count": null,
   "metadata": {},
   "outputs": [],
   "source": [
    "# Q3 Type your answer here\n",
    "df2 ="
   ]
  },
  {
   "cell_type": "markdown",
   "metadata": {},
   "source": [
    "Q4. Create a dataframe you did in Q3 by starting with an empty dataframe and manually set each column to a series."
   ]
  },
  {
   "cell_type": "code",
   "execution_count": null,
   "metadata": {},
   "outputs": [],
   "source": [
    "#Q4 Type your answer here\n",
    "df4 = ...... # Create empty dataframe\n",
    "\n",
    "ser1 =       # Create a series from a list\n",
    "ser2 =       # Create a series from a list\n",
    "ser3 =       # Create a series from a list\n",
    "\n",
    "df4[..]=...  # Manually set column StudentID to ser1\n",
    "df4[..]=...  # Manually set column NickName to ser2\n",
    "df4[..]=...  # Manually set column Major to ser3\n",
    "\n",
    "my_index =   # Create a series from a list\n",
    "df4.set      # Set index of our dataframe to the list we just created\n",
    "df4"
   ]
  },
  {
   "cell_type": "code",
   "execution_count": null,
   "metadata": {},
   "outputs": [],
   "source": []
  }
 ],
 "metadata": {
  "interpreter": {
   "hash": "405080deab2e1af9babd8f12d46ba601e764630e3c89e7e1068be70282be755a"
  },
  "kernelspec": {
   "display_name": "Python 3 (ipykernel)",
   "language": "python",
   "name": "python3"
  },
  "language_info": {
   "codemirror_mode": {
    "name": "ipython",
    "version": 3
   },
   "file_extension": ".py",
   "mimetype": "text/x-python",
   "name": "python",
   "nbconvert_exporter": "python",
   "pygments_lexer": "ipython3",
   "version": "3.9.12"
  }
 },
 "nbformat": 4,
 "nbformat_minor": 2
}
