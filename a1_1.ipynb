{
 "cells": [
  {
   "cell_type": "markdown",
   "metadata": {},
   "source": [
    "## Assignment #1.1: Use NumPy to compute the Mean, Median, and Variance"
   ]
  },
  {
   "cell_type": "markdown",
   "metadata": {},
   "source": [
    "Taken from https://www.packtpub.com/big-data-and-business-intelligence/data-visualisation-python<br /><br />\n",
    "Last modified by Alexander Ogay on 21/9/2022"
   ]
  },
  {
   "cell_type": "markdown",
   "metadata": {},
   "source": [
    "In this activity, you will consolidate the skills you've acquired in the last exercise and use NumPy to do some very basic mathematical calculations on our `normal_distribution` dataset.   \n",
    "NumPy has a consistent API, so it should be rather easy to transfer your knowledge of the mean method to median and variance.\n",
    "\n",
    "#### Complete the code in all sections with the <code>numpy</code> module.\n",
    "####  <span style=\"color:red\">If other modules, such as <code>statistics</code> and <code>pandas</code>, are used to complete this assignment with the exception of the last section, it will not be graded. In addition, keying the data directly into this notebook will result in a considerably lower score.</span> \n",
    "\n",
    "### Loading the dataset\n",
    "1. Import the necessary dependencies"
   ]
  },
  {
   "cell_type": "code",
   "execution_count": 1,
   "metadata": {},
   "outputs": [],
   "source": [
    "import numpy as np"
   ]
  },
  {
   "cell_type": "markdown",
   "metadata": {},
   "source": [
    "2. Load the dataset in the folder."
   ]
  },
  {
   "cell_type": "code",
   "execution_count": 2,
   "metadata": {},
   "outputs": [],
   "source": [
    "dataset = np.genfromtxt('normal_distribution.csv', delimiter=',')"
   ]
  },
  {
   "cell_type": "markdown",
   "metadata": {},
   "source": [
    "3. Look at the first two rows of the dataset."
   ]
  },
  {
   "cell_type": "code",
   "execution_count": 3,
   "metadata": {},
   "outputs": [
    {
     "data": {
      "text/plain": [
       "(array([ 99.14931546, 104.03852715, 107.43534677,  97.85230675,\n",
       "         98.74986914,  98.80833412,  96.81964892,  98.56783189]),\n",
       " array([ 92.02628776,  97.10439252,  99.32066924,  97.24584816,\n",
       "         92.9267508 ,  92.65657752, 105.7197853 , 101.23162942]))"
      ]
     },
     "execution_count": 3,
     "metadata": {},
     "output_type": "execute_result"
    }
   ],
   "source": [
    "dataset[0], dataset[1]"
   ]
  },
  {
   "cell_type": "markdown",
   "metadata": {},
   "source": [
    "---"
   ]
  },
  {
   "cell_type": "markdown",
   "metadata": {},
   "source": [
    "## Section 2: Indexing, Slicing, and Iterating"
   ]
  },
  {
   "cell_type": "markdown",
   "metadata": {},
   "source": [
    "Our client wants to prove that our dataset is nicely distributed around the mean value of 100.   \n",
    "They asked us to run some tests on several subsections of it to make sure they won't get a non-descriptive section of our data.\n",
    "\n",
    "Look at the mean value of each subtask."
   ]
  },
  {
   "cell_type": "markdown",
   "metadata": {},
   "source": [
    "#### Indexing"
   ]
  },
  {
   "cell_type": "markdown",
   "metadata": {},
   "source": [
    "Since we need several rows of our dataset to complete the given task, we have to use indexing to get the right rows.   \n",
    "To recap, we need: \n",
    "- the second row \n",
    "- the last row\n",
    "- the first value of the first row\n",
    "- the last value of the second to the last row"
   ]
  },
  {
   "cell_type": "markdown",
   "metadata": {},
   "source": [
    "4. Index the second row of the dataset"
   ]
  },
  {
   "cell_type": "code",
   "execution_count": 4,
   "metadata": {},
   "outputs": [
    {
     "data": {
      "text/plain": [
       "array([ 92.02628776,  97.10439252,  99.32066924,  97.24584816,\n",
       "        92.9267508 ,  92.65657752, 105.7197853 , 101.23162942])"
      ]
     },
     "execution_count": 4,
     "metadata": {},
     "output_type": "execute_result"
    }
   ],
   "source": [
    "dataset[1]"
   ]
  },
  {
   "cell_type": "markdown",
   "metadata": {},
   "source": [
    "5. Index the last element of the dataset (last row)"
   ]
  },
  {
   "cell_type": "code",
   "execution_count": 5,
   "metadata": {},
   "outputs": [
    {
     "data": {
      "text/plain": [
       "array([ 94.11176915,  99.62387832, 104.51786419,  97.62787811,\n",
       "        93.97853495,  98.75108352, 106.05042487, 100.07721494])"
      ]
     },
     "execution_count": 5,
     "metadata": {},
     "output_type": "execute_result"
    }
   ],
   "source": [
    "dataset[-1]"
   ]
  },
  {
   "cell_type": "markdown",
   "metadata": {},
   "source": [
    "6. Index the first value of the second row (row 1 cell 0)"
   ]
  },
  {
   "cell_type": "code",
   "execution_count": 6,
   "metadata": {},
   "outputs": [
    {
     "data": {
      "text/plain": [
       "99.14931546"
      ]
     },
     "execution_count": 6,
     "metadata": {},
     "output_type": "execute_result"
    }
   ],
   "source": [
    "dataset[0][0]"
   ]
  },
  {
   "cell_type": "markdown",
   "metadata": {},
   "source": [
    "7. Index the last value of the second to last row (*not the last two rows*)"
   ]
  },
  {
   "cell_type": "code",
   "execution_count": 7,
   "metadata": {},
   "outputs": [
    {
     "data": {
      "text/plain": [
       "103.83852459"
      ]
     },
     "execution_count": 7,
     "metadata": {},
     "output_type": "execute_result"
    }
   ],
   "source": [
    "dataset[-2][-1]"
   ]
  },
  {
   "cell_type": "markdown",
   "metadata": {},
   "source": [
    "---"
   ]
  },
  {
   "cell_type": "markdown",
   "metadata": {},
   "source": [
    "#### Slicing"
   ]
  },
  {
   "cell_type": "markdown",
   "metadata": {},
   "source": [
    "Other than the single rows and values we also need to get some subsets of the dataset.   \n",
    "Here we want slices:\n",
    "- a 2x2 slice starting from the second row and second element to the 4th element in the 4th row\n",
    "- every other element of the 5th row\n",
    "- the content of the last row in reversed order"
   ]
  },
  {
   "cell_type": "markdown",
   "metadata": {},
   "source": [
    "8. Slice an intersection of 4 elements (2x2) of the first two rows and first two columns"
   ]
  },
  {
   "cell_type": "code",
   "execution_count": 8,
   "metadata": {},
   "outputs": [
    {
     "data": {
      "text/plain": [
       "array([[ 99.14931546, 104.03852715],\n",
       "       [ 92.02628776,  97.10439252]])"
      ]
     },
     "execution_count": 8,
     "metadata": {},
     "output_type": "execute_result"
    }
   ],
   "source": [
    "dataset[:2, :2]"
   ]
  },
  {
   "cell_type": "markdown",
   "metadata": {},
   "source": [
    "##### Why is it not a problem if such a small subsection has a bigger standard deviation from 100?"
   ]
  },
  {
   "cell_type": "markdown",
   "metadata": {},
   "source": [
    "Several smaller values can cluster in such a small subsection leading to the value being really low.   \n",
    "If we make our subsection larger, we have a higher chance of getting a more expressive view of our data.\n",
    "\n",
    "9. Select every second element of the fifth row"
   ]
  },
  {
   "cell_type": "code",
   "execution_count": 9,
   "metadata": {},
   "outputs": [
    {
     "data": {
      "text/plain": [
       "array([101.20862522, 100.28690912,  93.37126331, 100.79478953])"
      ]
     },
     "execution_count": 9,
     "metadata": {},
     "output_type": "execute_result"
    }
   ],
   "source": [
    "dataset[4, 0:-1:2]"
   ]
  },
  {
   "cell_type": "markdown",
   "metadata": {},
   "source": [
    "10. Reverse the entry order, selecting the first two rows in reversed order"
   ]
  },
  {
   "cell_type": "code",
   "execution_count": 10,
   "metadata": {
    "scrolled": false
   },
   "outputs": [
    {
     "data": {
      "text/plain": [
       "array([[ 96.10020311,  94.57421727, 100.80409326, 105.02389857,\n",
       "         98.61325194,  95.62359311,  97.99762409, 103.83852459],\n",
       "       [ 94.11176915,  99.62387832, 104.51786419,  97.62787811,\n",
       "         93.97853495,  98.75108352, 106.05042487, 100.07721494]])"
      ]
     },
     "execution_count": 10,
     "metadata": {},
     "output_type": "execute_result"
    }
   ],
   "source": [
    "dataset[-2:]"
   ]
  },
  {
   "cell_type": "markdown",
   "metadata": {},
   "source": [
    "---"
   ]
  },
  {
   "cell_type": "markdown",
   "metadata": {},
   "source": [
    "## Section 3: Summary Statistics"
   ]
  },
  {
   "cell_type": "markdown",
   "metadata": {},
   "source": [
    "### Mean\n",
    "\n",
    "11. Calculate the mean of the third row"
   ]
  },
  {
   "cell_type": "code",
   "execution_count": 11,
   "metadata": {},
   "outputs": [
    {
     "data": {
      "text/plain": [
       "100.20466135250001"
      ]
     },
     "execution_count": 11,
     "metadata": {},
     "output_type": "execute_result"
    }
   ],
   "source": [
    "np.mean(dataset[2])"
   ]
  },
  {
   "cell_type": "markdown",
   "metadata": {},
   "source": [
    "12. Calculate the mean of the last column"
   ]
  },
  {
   "cell_type": "code",
   "execution_count": 12,
   "metadata": {},
   "outputs": [
    {
     "data": {
      "text/plain": [
       "100.4404927375"
      ]
     },
     "execution_count": 12,
     "metadata": {},
     "output_type": "execute_result"
    }
   ],
   "source": [
    "np.mean(dataset[:, -1:])"
   ]
  },
  {
   "cell_type": "markdown",
   "metadata": {},
   "source": [
    "13. Calculate the mean of the intersection of the first 3 rows and first 3 columns"
   ]
  },
  {
   "cell_type": "code",
   "execution_count": 13,
   "metadata": {},
   "outputs": [
    {
     "data": {
      "text/plain": [
       "97.87197312333333"
      ]
     },
     "execution_count": 13,
     "metadata": {},
     "output_type": "execute_result"
    }
   ],
   "source": [
    "np.mean(dataset[:3, :3])"
   ]
  },
  {
   "cell_type": "markdown",
   "metadata": {},
   "source": [
    "### Median\n",
    "\n",
    "14. Calculate the median of the last row"
   ]
  },
  {
   "cell_type": "code",
   "execution_count": 14,
   "metadata": {},
   "outputs": [
    {
     "data": {
      "text/plain": [
       "99.18748092"
      ]
     },
     "execution_count": 14,
     "metadata": {},
     "output_type": "execute_result"
    }
   ],
   "source": [
    "np.median(dataset[-1])"
   ]
  },
  {
   "cell_type": "markdown",
   "metadata": {},
   "source": [
    "15. Calculate the median of the last 3 columns"
   ]
  },
  {
   "cell_type": "code",
   "execution_count": 15,
   "metadata": {},
   "outputs": [
    {
     "data": {
      "text/plain": [
       "99.47332349999999"
      ]
     },
     "execution_count": 15,
     "metadata": {},
     "output_type": "execute_result"
    }
   ],
   "source": [
    "np.median(dataset[:, -3:])"
   ]
  },
  {
   "cell_type": "markdown",
   "metadata": {},
   "source": [
    "16. Calculate the median of each row"
   ]
  },
  {
   "cell_type": "code",
   "execution_count": 16,
   "metadata": {},
   "outputs": [
    {
     "name": "stdout",
     "output_type": "stream",
     "text": [
      "98.77910163\n",
      "97.17512034\n",
      "98.58782879\n",
      "100.684498365\n",
      "101.001707375\n",
      "97.76908825\n",
      "101.85002253\n",
      "100.04756696999999\n",
      "102.242925555\n",
      "99.59514997\n",
      "100.49557530499999\n",
      "99.886071405\n",
      "99.006479935\n",
      "98.672761775\n",
      "102.44376222\n",
      "96.61933565499999\n",
      "104.0968893\n",
      "100.72023042500001\n",
      "98.70877396\n",
      "99.75008653500001\n",
      "104.89344427500001\n",
      "101.006349425\n",
      "98.305438015\n",
      "99.18748092\n"
     ]
    }
   ],
   "source": [
    "for i in dataset:\n",
    "    print(np.median(i))"
   ]
  },
  {
   "cell_type": "markdown",
   "metadata": {},
   "source": [
    "17. Calculate the median of each column"
   ]
  },
  {
   "cell_type": "code",
   "execution_count": 17,
   "metadata": {},
   "outputs": [
    {
     "data": {
      "text/plain": [
       "(99.479023255,\n",
       " 100.108119265,\n",
       " 101.66384622,\n",
       " 100.96596128,\n",
       " 100.19629221,\n",
       " 99.08416696500001,\n",
       " 98.79890832000001,\n",
       " 100.60581955)"
      ]
     },
     "execution_count": 17,
     "metadata": {},
     "output_type": "execute_result"
    }
   ],
   "source": [
    "np.median(dataset[:, :1]), np.median(dataset[:, 1:2]), np.median(dataset[:, 2:3]), np.median(dataset[:, 3:4]), np.median(dataset[:, 4:5]), np.median(dataset[:, 5:6]), np.median(dataset[:, 6:7]), np.median(dataset[:, 7:8])"
   ]
  },
  {
   "cell_type": "markdown",
   "metadata": {},
   "source": [
    "---"
   ]
  },
  {
   "cell_type": "markdown",
   "metadata": {},
   "source": [
    "### Variance\n",
    "18. Calculate the variance of each column"
   ]
  },
  {
   "cell_type": "code",
   "execution_count": 18,
   "metadata": {},
   "outputs": [
    {
     "data": {
      "text/plain": [
       "(23.647574647546676,\n",
       " 29.78886108974666,\n",
       " 20.50542010670524,\n",
       " 26.03204443386493,\n",
       " 28.388531753037643,\n",
       " 19.099608170015305,\n",
       " 17.672911740506233,\n",
       " 16.179232042544072)"
      ]
     },
     "execution_count": 18,
     "metadata": {},
     "output_type": "execute_result"
    }
   ],
   "source": [
    "np.var(dataset[:, :1]), np.var(dataset[:, 1:2]), np.var(dataset[:, 2:3]), np.var(dataset[:, 3:4]), np.var(dataset[:, 4:5]), np.var(dataset[:, 5:6]), np.var(dataset[:, 6:7]), np.var(dataset[:, 7:8])"
   ]
  },
  {
   "cell_type": "markdown",
   "metadata": {},
   "source": [
    "19. Calculate the variance of the intersection of the last 2 rows and first 2 columns"
   ]
  },
  {
   "cell_type": "code",
   "execution_count": 20,
   "metadata": {},
   "outputs": [
    {
     "data": {
      "text/plain": [
       "4.674691991769191"
      ]
     },
     "execution_count": 20,
     "metadata": {},
     "output_type": "execute_result"
    }
   ],
   "source": [
    "np.var(dataset[-2:, :2])"
   ]
  },
  {
   "cell_type": "markdown",
   "metadata": {},
   "source": [
    "The values of the variance might seem a little bit strange at first.   \n",
    "You can always go back to the topic that gives you a quick statistical overview to recap what you've learned so far.   \n",
    "\n",
    "> **Note:**   \n",
    "Just remember, the variance is not the standard deviation.   \n",
    "\n",
    "Try calculation the standard deviation with NumPy to get a more descriptive value when comparing it to our dataset\n",
    "\n",
    "20. Calculate the standard deviation for each column"
   ]
  },
  {
   "cell_type": "code",
   "execution_count": 21,
   "metadata": {},
   "outputs": [
    {
     "data": {
      "text/plain": [
       "(4.8628771984851396,\n",
       " 5.457917284985791,\n",
       " 4.528291080165369,\n",
       " 5.102160761272123,\n",
       " 5.328088940045731,\n",
       " 4.370309848284822,\n",
       " 4.203916238521676,\n",
       " 4.022341611865416)"
      ]
     },
     "execution_count": 21,
     "metadata": {},
     "output_type": "execute_result"
    }
   ],
   "source": [
    "np.std(dataset[:, :1]), np.std(dataset[:, 1:2]), np.std(dataset[:, 2:3]), np.std(dataset[:, 3:4]), np.std(dataset[:, 4:5]), np.std(dataset[:, 5:6]), np.std(dataset[:, 6:7]), np.std(dataset[:, 7:8])"
   ]
  },
  {
   "cell_type": "markdown",
   "metadata": {},
   "source": [
    "21. Calculate the standard deviation for the dataset"
   ]
  },
  {
   "cell_type": "code",
   "execution_count": 22,
   "metadata": {},
   "outputs": [
    {
     "data": {
      "text/plain": [
       "4.838197554269257"
      ]
     },
     "execution_count": 22,
     "metadata": {},
     "output_type": "execute_result"
    }
   ],
   "source": [
    "np.std(dataset)"
   ]
  },
  {
   "cell_type": "markdown",
   "metadata": {},
   "source": [
    "---"
   ]
  },
  {
   "cell_type": "markdown",
   "metadata": {},
   "source": [
    "## A Bit Extra"
   ]
  },
  {
   "cell_type": "markdown",
   "metadata": {},
   "source": [
    "#### Splitting"
   ]
  },
  {
   "cell_type": "markdown",
   "metadata": {},
   "source": [
    "Our client's team only wants to use a small subset of the given dataset.   \n",
    "Therefore we need to first split it into 3 equal pieces and then give them the first half of the first split.   \n",
    "They sent us this drawing to show us what they need:\n",
    "```\n",
    "1, 2, 3, 4, 5, 6          1, 2     3, 4    5, 6          1, 2  \n",
    "3, 2, 1, 5, 4, 6    =>    3, 2     1, 5    4, 6    =>    3, 2    =>    1, 2\n",
    "5, 3, 1, 2, 4, 3          5, 3     1, 2    4, 3                        3, 2\n",
    "1, 2, 2, 4, 1, 5          1, 2     2, 4    1, 5          5, 3\n",
    "                                                         1, 2\n",
    "```\n",
    "\n",
    "> **Note:**   \n",
    "We are using a very small dataset here but imagine you have a huge amount of data and only want to look at a small subset of it to tweak your visualizations\n",
    "\n",
    "22. Split up our dataset horizontally on indices one third and two thirds"
   ]
  },
  {
   "cell_type": "code",
   "execution_count": 33,
   "metadata": {},
   "outputs": [
    {
     "data": {
      "text/plain": [
       "[array([[ 99.14931546, 104.03852715, 107.43534677,  97.85230675,\n",
       "          98.74986914,  98.80833412,  96.81964892,  98.56783189],\n",
       "        [ 92.02628776,  97.10439252,  99.32066924,  97.24584816,\n",
       "          92.9267508 ,  92.65657752, 105.7197853 , 101.23162942],\n",
       "        [ 95.66253664,  95.17750125,  90.93318132, 110.18889465,\n",
       "          98.80084371, 105.95297652,  98.37481387, 106.54654286],\n",
       "        [ 91.37294597, 100.96781394, 100.40118279, 113.42090475,\n",
       "         105.48508838,  91.6604946 , 106.1472841 ,  95.08715803],\n",
       "        [101.20862522, 103.5730309 , 100.28690912, 105.85269352,\n",
       "          93.37126331, 108.57980357, 100.79478953,  94.20019732],\n",
       "        [102.80387079,  98.29687616,  93.24376389,  97.24130034,\n",
       "          89.03452725,  96.2832753 , 104.60344836, 101.13442416],\n",
       "        [106.71751618, 102.97585605,  98.45723272, 100.72418901,\n",
       "         106.39798503,  95.46493436,  94.35373179, 106.83273763],\n",
       "        [ 96.02548256, 102.82360856, 106.47551845, 101.34745901,\n",
       "         102.45651798,  98.74767493,  97.57544275,  92.5748759 ]]),\n",
       " array([[105.30350449,  92.87730812, 103.19258339, 104.40518318,\n",
       "         101.29326772, 100.85447132, 101.2226037 , 106.03868807],\n",
       "        [110.44484313,  93.87155456, 101.5363647 ,  97.65393524,\n",
       "          92.75048583, 101.72074646,  96.96851209, 103.29147111],\n",
       "        [101.3514185 , 100.37372248, 106.6471081 , 100.61742813,\n",
       "         105.0320535 ,  99.35999981,  98.87007532,  95.85284217],\n",
       "        [ 97.21315663, 107.02874163, 102.17642112,  96.74630281,\n",
       "          95.93799169, 102.62384733, 105.07475277,  97.59572169],\n",
       "        [ 95.65982034, 107.22482426, 107.19119932, 102.93039474,\n",
       "          85.98839623,  95.19184343,  91.32093303, 102.35313953],\n",
       "        [100.39303522,  92.0108226 ,  97.75887636,  93.18884302,\n",
       "         100.44940274, 108.09423367,  96.50342927,  99.58664719],\n",
       "        [103.1521596 , 109.40523174,  93.83969256,  99.95827854,\n",
       "         101.83462816,  99.69982772, 103.05289628, 103.93383957],\n",
       "        [106.11454989,  88.80221141,  94.5081787 ,  94.59300658,\n",
       "         101.08830521,  96.34622848,  96.89244283,  98.07122664]]),\n",
       " array([[ 96.78266211,  99.84251605, 104.03478031, 106.57052697,\n",
       "         105.13668343, 105.37011896,  99.07551254, 104.15899829],\n",
       "        [101.86186193, 103.61720152,  99.57859892,  99.4889538 ,\n",
       "         103.05541444,  98.65912661,  98.72774132, 104.70526438],\n",
       "        [ 97.49594839,  96.59385486, 104.63817694, 102.55198606,\n",
       "         105.86078488,  96.5937781 ,  93.04610867,  99.92159953],\n",
       "        [ 96.76814836,  91.6779221 , 101.79132774, 101.20773355,\n",
       "          98.29243952, 101.83845792,  97.94046856, 102.20618501],\n",
       "        [106.89005002, 106.57364584, 102.26648279, 107.40064604,\n",
       "          99.94318168, 103.40412146, 106.38276709,  98.00253006],\n",
       "        [ 99.80873105, 101.63973121, 106.46476468, 110.43976681,\n",
       "         100.69156231,  99.99579473, 101.32113654,  94.76253572],\n",
       "        [ 96.10020311,  94.57421727, 100.80409326, 105.02389857,\n",
       "          98.61325194,  95.62359311,  97.99762409, 103.83852459],\n",
       "        [ 94.11176915,  99.62387832, 104.51786419,  97.62787811,\n",
       "          93.97853495,  98.75108352, 106.05042487, 100.07721494]])]"
      ]
     },
     "execution_count": 33,
     "metadata": {},
     "output_type": "execute_result"
    }
   ],
   "source": [
    "np.array_split(dataset, 3)"
   ]
  },
  {
   "cell_type": "markdown",
   "metadata": {},
   "source": [
    "23. Split up our dataset vertically on index 2"
   ]
  },
  {
   "cell_type": "code",
   "execution_count": 50,
   "metadata": {},
   "outputs": [
    {
     "data": {
      "text/plain": [
       "[array([[[ 99.14931546, 104.03852715, 107.43534677],\n",
       "         [ 92.02628776,  97.10439252,  99.32066924],\n",
       "         [ 95.66253664,  95.17750125,  90.93318132],\n",
       "         [ 91.37294597, 100.96781394, 100.40118279],\n",
       "         [101.20862522, 103.5730309 , 100.28690912],\n",
       "         [102.80387079,  98.29687616,  93.24376389],\n",
       "         [106.71751618, 102.97585605,  98.45723272],\n",
       "         [ 96.02548256, 102.82360856, 106.47551845]],\n",
       " \n",
       "        [[105.30350449,  92.87730812, 103.19258339],\n",
       "         [110.44484313,  93.87155456, 101.5363647 ],\n",
       "         [101.3514185 , 100.37372248, 106.6471081 ],\n",
       "         [ 97.21315663, 107.02874163, 102.17642112],\n",
       "         [ 95.65982034, 107.22482426, 107.19119932],\n",
       "         [100.39303522,  92.0108226 ,  97.75887636],\n",
       "         [103.1521596 , 109.40523174,  93.83969256],\n",
       "         [106.11454989,  88.80221141,  94.5081787 ]],\n",
       " \n",
       "        [[ 96.78266211,  99.84251605, 104.03478031],\n",
       "         [101.86186193, 103.61720152,  99.57859892],\n",
       "         [ 97.49594839,  96.59385486, 104.63817694],\n",
       "         [ 96.76814836,  91.6779221 , 101.79132774],\n",
       "         [106.89005002, 106.57364584, 102.26648279],\n",
       "         [ 99.80873105, 101.63973121, 106.46476468],\n",
       "         [ 96.10020311,  94.57421727, 100.80409326],\n",
       "         [ 94.11176915,  99.62387832, 104.51786419]]])]"
      ]
     },
     "execution_count": 50,
     "metadata": {},
     "output_type": "execute_result"
    }
   ],
   "source": [
    "np.array_split(np.array_split(dataset, 3), 1, axis=2)"
   ]
  },
  {
   "cell_type": "markdown",
   "metadata": {},
   "source": [
    "---"
   ]
  },
  {
   "cell_type": "markdown",
   "metadata": {},
   "source": [
    "#### Iterating"
   ]
  },
  {
   "cell_type": "markdown",
   "metadata": {},
   "source": [
    "Once you sent over the dataset they tell you that they also need a way iterate over the whole dataset element by element as if it would be a one-dimensional list.   \n",
    "However, they want to also now the position in the dataset itself.\n",
    "\n",
    "They send you this piece of code and tell you that it's not working as mentioned.   \n",
    "Come up with the right solution for their needs.\n",
    "\n",
    "24. Iterate over whole dataset (each value in each row)"
   ]
  },
  {
   "cell_type": "code",
   "execution_count": 57,
   "metadata": {},
   "outputs": [
    {
     "name": "stdout",
     "output_type": "stream",
     "text": [
      "99.14931546\n",
      "104.03852715\n",
      "107.43534677\n",
      "92.02628776\n",
      "97.10439252\n",
      "99.32066924\n",
      "95.66253664\n",
      "95.17750125\n",
      "90.93318132\n",
      "91.37294597\n",
      "100.96781394\n",
      "100.40118279\n",
      "101.20862522\n",
      "103.5730309\n",
      "100.28690912\n",
      "102.80387079\n",
      "98.29687616\n",
      "93.24376389\n",
      "106.71751618\n",
      "102.97585605\n",
      "98.45723272\n",
      "96.02548256\n",
      "102.82360856\n",
      "106.47551845\n",
      "105.30350449\n",
      "92.87730812\n",
      "103.19258339\n",
      "110.44484313\n",
      "93.87155456\n",
      "101.5363647\n",
      "101.3514185\n",
      "100.37372248\n",
      "106.6471081\n",
      "97.21315663\n",
      "107.02874163\n",
      "102.17642112\n",
      "95.65982034\n",
      "107.22482426\n",
      "107.19119932\n",
      "100.39303522\n",
      "92.0108226\n",
      "97.75887636\n",
      "103.1521596\n",
      "109.40523174\n",
      "93.83969256\n",
      "106.11454989\n",
      "88.80221141\n",
      "94.5081787\n",
      "96.78266211\n",
      "99.84251605\n",
      "104.03478031\n",
      "101.86186193\n",
      "103.61720152\n",
      "99.57859892\n",
      "97.49594839\n",
      "96.59385486\n",
      "104.63817694\n",
      "96.76814836\n",
      "91.6779221\n",
      "101.79132774\n",
      "106.89005002\n",
      "106.57364584\n",
      "102.26648279\n",
      "99.80873105\n",
      "101.63973121\n",
      "106.46476468\n",
      "96.10020311\n",
      "94.57421727\n",
      "100.80409326\n",
      "94.11176915\n",
      "99.62387832\n",
      "104.51786419\n"
     ]
    }
   ],
   "source": [
    "for i in np.array_split(np.array_split(dataset, 3), 1, axis=2):\n",
    "    for j in i:\n",
    "        for k in j:\n",
    "            for l in k:\n",
    "                print(l)"
   ]
  },
  {
   "cell_type": "markdown",
   "metadata": {},
   "source": [
    "25. Iterate over the whole dataset with indices matching the position in the dataset"
   ]
  },
  {
   "cell_type": "code",
   "execution_count": 106,
   "metadata": {},
   "outputs": [
    {
     "name": "stdout",
     "output_type": "stream",
     "text": [
      "99.14931546\n",
      "104.03852715\n",
      "107.43534677\n",
      "92.02628776\n",
      "97.10439252\n",
      "99.32066924\n",
      "95.66253664\n",
      "95.17750125\n",
      "90.93318132\n",
      "91.37294597\n",
      "100.96781394\n",
      "100.40118279\n",
      "101.20862522\n",
      "103.5730309\n",
      "100.28690912\n",
      "102.80387079\n",
      "98.29687616\n",
      "93.24376389\n",
      "106.71751618\n",
      "102.97585605\n",
      "98.45723272\n",
      "96.02548256\n",
      "102.82360856\n",
      "106.47551845\n",
      "105.30350449\n",
      "92.87730812\n",
      "103.19258339\n",
      "110.44484313\n",
      "93.87155456\n",
      "101.5363647\n",
      "101.3514185\n",
      "100.37372248\n",
      "106.6471081\n",
      "97.21315663\n",
      "107.02874163\n",
      "102.17642112\n",
      "95.65982034\n",
      "107.22482426\n",
      "107.19119932\n",
      "100.39303522\n",
      "92.0108226\n",
      "97.75887636\n",
      "103.1521596\n",
      "109.40523174\n",
      "93.83969256\n",
      "106.11454989\n",
      "88.80221141\n",
      "94.5081787\n",
      "96.78266211\n",
      "99.84251605\n",
      "104.03478031\n",
      "101.86186193\n",
      "103.61720152\n",
      "99.57859892\n",
      "97.49594839\n",
      "96.59385486\n",
      "104.63817694\n",
      "96.76814836\n",
      "91.6779221\n",
      "101.79132774\n",
      "106.89005002\n",
      "106.57364584\n",
      "102.26648279\n",
      "99.80873105\n",
      "101.63973121\n",
      "106.46476468\n",
      "96.10020311\n",
      "94.57421727\n",
      "100.80409326\n",
      "94.11176915\n",
      "99.62387832\n",
      "104.51786419\n"
     ]
    }
   ],
   "source": [
    "index = np.shape(np.array_split(np.array_split(dataset, 3), 1, axis=2)[0])[0]*np.shape(np.array_split(np.array_split(dataset, 3), 1, axis=2)[0])[1]*np.shape(np.array_split(np.array_split(dataset, 3), 1, axis=2)[0])[2]\n",
    "index\n",
    "con = np.concatenate((np.array_split(np.array_split(dataset, 3), 1, axis=2)[0][0]))\n",
    "con = np.append(con, np.concatenate((np.array_split(np.array_split(dataset, 3), 1, axis=2)[0][1])))\n",
    "con = np.append(con, np.concatenate((np.array_split(np.array_split(dataset, 3), 1, axis=2)[0][2])))\n",
    "for i in range(index):\n",
    "    print(con[i])"
   ]
  },
  {
   "cell_type": "code",
   "execution_count": null,
   "metadata": {},
   "outputs": [],
   "source": []
  },
  {
   "cell_type": "code",
   "execution_count": null,
   "metadata": {},
   "outputs": [],
   "source": []
  }
 ],
 "metadata": {
  "kernelspec": {
   "display_name": "Python 3 (ipykernel)",
   "language": "python",
   "name": "python3"
  },
  "language_info": {
   "codemirror_mode": {
    "name": "ipython",
    "version": 3
   },
   "file_extension": ".py",
   "mimetype": "text/x-python",
   "name": "python",
   "nbconvert_exporter": "python",
   "pygments_lexer": "ipython3",
   "version": "3.9.12"
  }
 },
 "nbformat": 4,
 "nbformat_minor": 2
}
